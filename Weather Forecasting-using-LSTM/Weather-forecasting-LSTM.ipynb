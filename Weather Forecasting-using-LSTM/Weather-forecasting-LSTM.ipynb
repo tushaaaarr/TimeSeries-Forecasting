{
 "cells": [
  {
   "cell_type": "markdown",
   "id": "leading-jewelry",
   "metadata": {},
   "source": [
    "## Weather forecasting using LSTM"
   ]
  },
  {
   "cell_type": "markdown",
   "id": "addressed-engineering",
   "metadata": {},
   "source": [
    "#### In this project we are going to use weather dataset for time series forecasting and we are predicting feature 30 days weather by using LSTM"
   ]
  },
  {
   "cell_type": "markdown",
   "id": "strong-incidence",
   "metadata": {},
   "source": [
    "Time series analysis is a statistical method to analyse the past data within a given duration of time to forecast the future. It comprises of ordered sequence of data at equally spaced interval.To understand the time series data & the analysis let us consider an example. Consider an example of Airline Passenger data. It has the count of passenger over a period of time.\n",
    "\n"
   ]
  },
  {
   "cell_type": "code",
   "execution_count": 14,
   "id": "meaning-sleeve",
   "metadata": {},
   "outputs": [],
   "source": [
    "import pandas as pd\n",
    "import pandas as pd\n",
    "import numpy as np\n",
    "import matplotlib.pyplot as plt\n",
    "%matplotlib inline"
   ]
  },
  {
   "cell_type": "code",
   "execution_count": 2,
   "id": "abroad-capacity",
   "metadata": {},
   "outputs": [
    {
     "data": {
      "text/html": [
       "<div>\n",
       "<style scoped>\n",
       "    .dataframe tbody tr th:only-of-type {\n",
       "        vertical-align: middle;\n",
       "    }\n",
       "\n",
       "    .dataframe tbody tr th {\n",
       "        vertical-align: top;\n",
       "    }\n",
       "\n",
       "    .dataframe thead th {\n",
       "        text-align: right;\n",
       "    }\n",
       "</style>\n",
       "<table border=\"1\" class=\"dataframe\">\n",
       "  <thead>\n",
       "    <tr style=\"text-align: right;\">\n",
       "      <th></th>\n",
       "      <th>datetime_utc</th>\n",
       "      <th>_conds</th>\n",
       "      <th>_dewptm</th>\n",
       "      <th>_fog</th>\n",
       "      <th>_hail</th>\n",
       "      <th>_heatindexm</th>\n",
       "      <th>_hum</th>\n",
       "      <th>_precipm</th>\n",
       "      <th>_pressurem</th>\n",
       "      <th>_rain</th>\n",
       "      <th>_snow</th>\n",
       "      <th>_tempm</th>\n",
       "      <th>_thunder</th>\n",
       "      <th>_tornado</th>\n",
       "      <th>_vism</th>\n",
       "      <th>_wdird</th>\n",
       "      <th>_wdire</th>\n",
       "      <th>_wgustm</th>\n",
       "      <th>_windchillm</th>\n",
       "      <th>_wspdm</th>\n",
       "    </tr>\n",
       "  </thead>\n",
       "  <tbody>\n",
       "    <tr>\n",
       "      <th>0</th>\n",
       "      <td>19961101-11:00</td>\n",
       "      <td>Smoke</td>\n",
       "      <td>9.0</td>\n",
       "      <td>0</td>\n",
       "      <td>0</td>\n",
       "      <td>NaN</td>\n",
       "      <td>27.0</td>\n",
       "      <td>NaN</td>\n",
       "      <td>1010.0</td>\n",
       "      <td>0</td>\n",
       "      <td>0</td>\n",
       "      <td>30.0</td>\n",
       "      <td>0</td>\n",
       "      <td>0</td>\n",
       "      <td>5.0</td>\n",
       "      <td>280.0</td>\n",
       "      <td>West</td>\n",
       "      <td>NaN</td>\n",
       "      <td>NaN</td>\n",
       "      <td>7.4</td>\n",
       "    </tr>\n",
       "    <tr>\n",
       "      <th>1</th>\n",
       "      <td>19961101-12:00</td>\n",
       "      <td>Smoke</td>\n",
       "      <td>10.0</td>\n",
       "      <td>0</td>\n",
       "      <td>0</td>\n",
       "      <td>NaN</td>\n",
       "      <td>32.0</td>\n",
       "      <td>NaN</td>\n",
       "      <td>-9999.0</td>\n",
       "      <td>0</td>\n",
       "      <td>0</td>\n",
       "      <td>28.0</td>\n",
       "      <td>0</td>\n",
       "      <td>0</td>\n",
       "      <td>NaN</td>\n",
       "      <td>0.0</td>\n",
       "      <td>North</td>\n",
       "      <td>NaN</td>\n",
       "      <td>NaN</td>\n",
       "      <td>NaN</td>\n",
       "    </tr>\n",
       "    <tr>\n",
       "      <th>2</th>\n",
       "      <td>19961101-13:00</td>\n",
       "      <td>Smoke</td>\n",
       "      <td>11.0</td>\n",
       "      <td>0</td>\n",
       "      <td>0</td>\n",
       "      <td>NaN</td>\n",
       "      <td>44.0</td>\n",
       "      <td>NaN</td>\n",
       "      <td>-9999.0</td>\n",
       "      <td>0</td>\n",
       "      <td>0</td>\n",
       "      <td>24.0</td>\n",
       "      <td>0</td>\n",
       "      <td>0</td>\n",
       "      <td>NaN</td>\n",
       "      <td>0.0</td>\n",
       "      <td>North</td>\n",
       "      <td>NaN</td>\n",
       "      <td>NaN</td>\n",
       "      <td>NaN</td>\n",
       "    </tr>\n",
       "    <tr>\n",
       "      <th>3</th>\n",
       "      <td>19961101-14:00</td>\n",
       "      <td>Smoke</td>\n",
       "      <td>10.0</td>\n",
       "      <td>0</td>\n",
       "      <td>0</td>\n",
       "      <td>NaN</td>\n",
       "      <td>41.0</td>\n",
       "      <td>NaN</td>\n",
       "      <td>1010.0</td>\n",
       "      <td>0</td>\n",
       "      <td>0</td>\n",
       "      <td>24.0</td>\n",
       "      <td>0</td>\n",
       "      <td>0</td>\n",
       "      <td>2.0</td>\n",
       "      <td>0.0</td>\n",
       "      <td>North</td>\n",
       "      <td>NaN</td>\n",
       "      <td>NaN</td>\n",
       "      <td>NaN</td>\n",
       "    </tr>\n",
       "    <tr>\n",
       "      <th>4</th>\n",
       "      <td>19961101-16:00</td>\n",
       "      <td>Smoke</td>\n",
       "      <td>11.0</td>\n",
       "      <td>0</td>\n",
       "      <td>0</td>\n",
       "      <td>NaN</td>\n",
       "      <td>47.0</td>\n",
       "      <td>NaN</td>\n",
       "      <td>1011.0</td>\n",
       "      <td>0</td>\n",
       "      <td>0</td>\n",
       "      <td>23.0</td>\n",
       "      <td>0</td>\n",
       "      <td>0</td>\n",
       "      <td>1.2</td>\n",
       "      <td>0.0</td>\n",
       "      <td>North</td>\n",
       "      <td>NaN</td>\n",
       "      <td>NaN</td>\n",
       "      <td>0.0</td>\n",
       "    </tr>\n",
       "  </tbody>\n",
       "</table>\n",
       "</div>"
      ],
      "text/plain": [
       "     datetime_utc  _conds   _dewptm   _fog   _hail   _heatindexm   _hum  \\\n",
       "0  19961101-11:00   Smoke       9.0      0       0           NaN   27.0   \n",
       "1  19961101-12:00   Smoke      10.0      0       0           NaN   32.0   \n",
       "2  19961101-13:00   Smoke      11.0      0       0           NaN   44.0   \n",
       "3  19961101-14:00   Smoke      10.0      0       0           NaN   41.0   \n",
       "4  19961101-16:00   Smoke      11.0      0       0           NaN   47.0   \n",
       "\n",
       "    _precipm   _pressurem   _rain   _snow   _tempm   _thunder   _tornado  \\\n",
       "0        NaN       1010.0       0       0     30.0          0          0   \n",
       "1        NaN      -9999.0       0       0     28.0          0          0   \n",
       "2        NaN      -9999.0       0       0     24.0          0          0   \n",
       "3        NaN       1010.0       0       0     24.0          0          0   \n",
       "4        NaN       1011.0       0       0     23.0          0          0   \n",
       "\n",
       "    _vism   _wdird  _wdire   _wgustm   _windchillm   _wspdm  \n",
       "0     5.0    280.0    West       NaN           NaN      7.4  \n",
       "1     NaN      0.0   North       NaN           NaN      NaN  \n",
       "2     NaN      0.0   North       NaN           NaN      NaN  \n",
       "3     2.0      0.0   North       NaN           NaN      NaN  \n",
       "4     1.2      0.0   North       NaN           NaN      0.0  "
      ]
     },
     "execution_count": 2,
     "metadata": {},
     "output_type": "execute_result"
    }
   ],
   "source": [
    "df= pd.read_csv('testset.csv')\n",
    "df.head()\n"
   ]
  },
  {
   "cell_type": "code",
   "execution_count": 3,
   "id": "auburn-roman",
   "metadata": {
    "scrolled": false
   },
   "outputs": [],
   "source": [
    "data = pd.DataFrame(list(df[' _tempm']), index=df['datetime_utc'], columns=['temp'])"
   ]
  },
  {
   "cell_type": "code",
   "execution_count": 4,
   "id": "renewable-valentine",
   "metadata": {},
   "outputs": [
    {
     "data": {
      "text/html": [
       "<div>\n",
       "<style scoped>\n",
       "    .dataframe tbody tr th:only-of-type {\n",
       "        vertical-align: middle;\n",
       "    }\n",
       "\n",
       "    .dataframe tbody tr th {\n",
       "        vertical-align: top;\n",
       "    }\n",
       "\n",
       "    .dataframe thead th {\n",
       "        text-align: right;\n",
       "    }\n",
       "</style>\n",
       "<table border=\"1\" class=\"dataframe\">\n",
       "  <thead>\n",
       "    <tr style=\"text-align: right;\">\n",
       "      <th></th>\n",
       "      <th>temp</th>\n",
       "    </tr>\n",
       "    <tr>\n",
       "      <th>datetime_utc</th>\n",
       "      <th></th>\n",
       "    </tr>\n",
       "  </thead>\n",
       "  <tbody>\n",
       "    <tr>\n",
       "      <th>19961101-11:00</th>\n",
       "      <td>30.0</td>\n",
       "    </tr>\n",
       "    <tr>\n",
       "      <th>19961101-12:00</th>\n",
       "      <td>28.0</td>\n",
       "    </tr>\n",
       "    <tr>\n",
       "      <th>19961101-13:00</th>\n",
       "      <td>24.0</td>\n",
       "    </tr>\n",
       "    <tr>\n",
       "      <th>19961101-14:00</th>\n",
       "      <td>24.0</td>\n",
       "    </tr>\n",
       "    <tr>\n",
       "      <th>19961101-16:00</th>\n",
       "      <td>23.0</td>\n",
       "    </tr>\n",
       "    <tr>\n",
       "      <th>...</th>\n",
       "      <td>...</td>\n",
       "    </tr>\n",
       "    <tr>\n",
       "      <th>20170424-06:00</th>\n",
       "      <td>34.0</td>\n",
       "    </tr>\n",
       "    <tr>\n",
       "      <th>20170424-09:00</th>\n",
       "      <td>38.0</td>\n",
       "    </tr>\n",
       "    <tr>\n",
       "      <th>20170424-12:00</th>\n",
       "      <td>36.0</td>\n",
       "    </tr>\n",
       "    <tr>\n",
       "      <th>20170424-15:00</th>\n",
       "      <td>32.0</td>\n",
       "    </tr>\n",
       "    <tr>\n",
       "      <th>20170424-18:00</th>\n",
       "      <td>30.0</td>\n",
       "    </tr>\n",
       "  </tbody>\n",
       "</table>\n",
       "<p>100990 rows × 1 columns</p>\n",
       "</div>"
      ],
      "text/plain": [
       "                temp\n",
       "datetime_utc        \n",
       "19961101-11:00  30.0\n",
       "19961101-12:00  28.0\n",
       "19961101-13:00  24.0\n",
       "19961101-14:00  24.0\n",
       "19961101-16:00  23.0\n",
       "...              ...\n",
       "20170424-06:00  34.0\n",
       "20170424-09:00  38.0\n",
       "20170424-12:00  36.0\n",
       "20170424-15:00  32.0\n",
       "20170424-18:00  30.0\n",
       "\n",
       "[100990 rows x 1 columns]"
      ]
     },
     "execution_count": 4,
     "metadata": {},
     "output_type": "execute_result"
    }
   ],
   "source": [
    "data"
   ]
  },
  {
   "cell_type": "markdown",
   "id": "random-thermal",
   "metadata": {},
   "source": [
    "Now we are using only data for 365 days"
   ]
  },
  {
   "cell_type": "code",
   "execution_count": 5,
   "id": "renewable-carry",
   "metadata": {},
   "outputs": [],
   "source": [
    "df=data[:365]"
   ]
  },
  {
   "cell_type": "code",
   "execution_count": 6,
   "id": "angry-timer",
   "metadata": {
    "scrolled": true
   },
   "outputs": [
    {
     "data": {
      "text/plain": [
       "(365, 1)"
      ]
     },
     "execution_count": 6,
     "metadata": {},
     "output_type": "execute_result"
    }
   ],
   "source": [
    "df.shape"
   ]
  },
  {
   "cell_type": "code",
   "execution_count": 7,
   "id": "behavioral-slovakia",
   "metadata": {},
   "outputs": [
    {
     "data": {
      "text/plain": [
       "temp    3\n",
       "dtype: int64"
      ]
     },
     "execution_count": 7,
     "metadata": {},
     "output_type": "execute_result"
    }
   ],
   "source": [
    "df.isnull().sum()"
   ]
  },
  {
   "cell_type": "code",
   "execution_count": 8,
   "id": "twelve-cowboy",
   "metadata": {},
   "outputs": [],
   "source": [
    "df=df.dropna(axis=0)"
   ]
  },
  {
   "cell_type": "code",
   "execution_count": 9,
   "id": "complicated-latest",
   "metadata": {},
   "outputs": [
    {
     "data": {
      "text/plain": [
       "(362, 1)"
      ]
     },
     "execution_count": 9,
     "metadata": {},
     "output_type": "execute_result"
    }
   ],
   "source": [
    "df.shape"
   ]
  },
  {
   "cell_type": "code",
   "execution_count": 10,
   "id": "promising-reverse",
   "metadata": {},
   "outputs": [],
   "source": [
    "df=df['temp'].values"
   ]
  },
  {
   "cell_type": "code",
   "execution_count": 11,
   "id": "usual-bidder",
   "metadata": {},
   "outputs": [
    {
     "data": {
      "text/plain": [
       "array([30., 28., 24., 24., 23.])"
      ]
     },
     "execution_count": 11,
     "metadata": {},
     "output_type": "execute_result"
    }
   ],
   "source": [
    "df[:5]"
   ]
  },
  {
   "cell_type": "code",
   "execution_count": 12,
   "id": "instrumental-watson",
   "metadata": {},
   "outputs": [],
   "source": [
    "df=df.reshape(-1,1)"
   ]
  },
  {
   "cell_type": "code",
   "execution_count": 15,
   "id": "affecting-fight",
   "metadata": {},
   "outputs": [
    {
     "data": {
      "image/png": "[encoded data removed]",
      "text/plain": [
       "<Figure size 1800x504 with 1 Axes>"
      ]
     },
     "metadata": {
      "needs_background": "light"
     },
     "output_type": "display_data"
    }
   ],
   "source": [
    "plt.figure(figsize=(25, 7))\n",
    "plt.plot(df, linewidth=1)\n",
    "# plt.grid()\n",
    "plt.title(\"Time Series (temperature month wise for 1 year)\")\n",
    "plt.show()"
   ]
  },
  {
   "cell_type": "markdown",
   "id": "spectacular-fairy",
   "metadata": {},
   "source": [
    "#### Scaling data "
   ]
  },
  {
   "cell_type": "code",
   "execution_count": 16,
   "id": "weird-frame",
   "metadata": {},
   "outputs": [],
   "source": [
    "from sklearn.preprocessing import MinMaxScaler\n",
    "scaler = MinMaxScaler(feature_range=(0, 1))\n",
    "data_scaled = scaler.fit_transform(df)"
   ]
  },
  {
   "cell_type": "code",
   "execution_count": 17,
   "id": "caring-riverside",
   "metadata": {},
   "outputs": [
    {
     "data": {
      "text/plain": [
       "array([[0.83333333],\n",
       "       [0.75      ],\n",
       "       [0.58333333],\n",
       "       [0.58333333],\n",
       "       [0.54166667]])"
      ]
     },
     "execution_count": 17,
     "metadata": {},
     "output_type": "execute_result"
    }
   ],
   "source": [
    "data_scaled[:5]"
   ]
  },
  {
   "cell_type": "code",
   "execution_count": 18,
   "id": "convenient-resort",
   "metadata": {},
   "outputs": [
    {
     "data": {
      "text/plain": [
       "(362, 1)"
      ]
     },
     "execution_count": 18,
     "metadata": {},
     "output_type": "execute_result"
    }
   ],
   "source": [
    "data_scaled.shape"
   ]
  },
  {
   "cell_type": "code",
   "execution_count": null,
   "id": "infectious-dominant",
   "metadata": {},
   "outputs": [],
   "source": []
  },
  {
   "cell_type": "code",
   "execution_count": 19,
   "id": "respiratory-duplicate",
   "metadata": {},
   "outputs": [],
   "source": [
    "steps= 20\n",
    "inp = []\n",
    "out = []\n",
    "for i in range(len(data_scaled) - (steps)):\n",
    "    inp.append(data_scaled[i:i+steps])\n",
    "    out.append(data_scaled[i+steps])"
   ]
  },
  {
   "cell_type": "code",
   "execution_count": null,
   "id": "hidden-spider",
   "metadata": {},
   "outputs": [],
   "source": []
  },
  {
   "cell_type": "code",
   "execution_count": 20,
   "id": "protecting-province",
   "metadata": {},
   "outputs": [
    {
     "data": {
      "text/plain": [
       "[array([0.875]),\n",
       " array([0.875]),\n",
       " array([0.875]),\n",
       " array([0.83333333]),\n",
       " array([0.70833333]),\n",
       " array([0.625]),\n",
       " array([0.5]),\n",
       " array([0.45833333]),\n",
       " array([0.375]),\n",
       " array([0.41666667])]"
      ]
     },
     "execution_count": 20,
     "metadata": {},
     "output_type": "execute_result"
    }
   ],
   "source": [
    "out[:10]"
   ]
  },
  {
   "cell_type": "markdown",
   "id": "egyptian-mounting",
   "metadata": {},
   "source": [
    "reshape "
   ]
  },
  {
   "cell_type": "code",
   "execution_count": 21,
   "id": "damaged-heating",
   "metadata": {},
   "outputs": [],
   "source": [
    "import numpy as np"
   ]
  },
  {
   "cell_type": "code",
   "execution_count": 22,
   "id": "exact-taiwan",
   "metadata": {},
   "outputs": [],
   "source": [
    "inp= np.asanyarray(inp)\n",
    "out= np.asanyarray(out)"
   ]
  },
  {
   "cell_type": "code",
   "execution_count": null,
   "id": "precious-parks",
   "metadata": {},
   "outputs": [],
   "source": []
  },
  {
   "cell_type": "code",
   "execution_count": 23,
   "id": "electric-essay",
   "metadata": {},
   "outputs": [
    {
     "data": {
      "text/plain": [
       "235.3"
      ]
     },
     "execution_count": 23,
     "metadata": {},
     "output_type": "execute_result"
    }
   ],
   "source": [
    "len(df)*0.65"
   ]
  },
  {
   "cell_type": "code",
   "execution_count": 24,
   "id": "coral-soldier",
   "metadata": {},
   "outputs": [],
   "source": [
    "x_train = inp[:237,:,:]\n",
    "x_test = inp[237:,:,:]    \n",
    "y_train = out[:237]    \n",
    "y_test= out[237:]"
   ]
  },
  {
   "cell_type": "code",
   "execution_count": 25,
   "id": "enormous-object",
   "metadata": {},
   "outputs": [
    {
     "data": {
      "text/plain": [
       "(342, 20, 1)"
      ]
     },
     "execution_count": 25,
     "metadata": {},
     "output_type": "execute_result"
    }
   ],
   "source": [
    "inp.shape"
   ]
  },
  {
   "cell_type": "code",
   "execution_count": 26,
   "id": "violent-mainstream",
   "metadata": {},
   "outputs": [
    {
     "data": {
      "text/plain": [
       "(237, 20, 1)"
      ]
     },
     "execution_count": 26,
     "metadata": {},
     "output_type": "execute_result"
    }
   ],
   "source": [
    "x_train.shape"
   ]
  },
  {
   "cell_type": "code",
   "execution_count": 27,
   "id": "cognitive-angola",
   "metadata": {},
   "outputs": [
    {
     "data": {
      "text/plain": [
       "(105, 20, 1)"
      ]
     },
     "execution_count": 27,
     "metadata": {},
     "output_type": "execute_result"
    }
   ],
   "source": [
    "x_test.shape"
   ]
  },
  {
   "cell_type": "code",
   "execution_count": null,
   "id": "prescribed-calibration",
   "metadata": {},
   "outputs": [],
   "source": []
  },
  {
   "cell_type": "code",
   "execution_count": 28,
   "id": "incorrect-massage",
   "metadata": {},
   "outputs": [],
   "source": [
    "import matplotlib.pyplot as plt\n",
    "import seaborn as sns\n",
    "from tensorflow.keras.layers import Dense,RepeatVector, LSTM, Dropout\n",
    "from tensorflow.keras.layers import Flatten, Conv1D, MaxPooling1D\n",
    "from tensorflow.keras.layers import Bidirectional, Dropout\n",
    "from tensorflow.keras.models import Sequential\n",
    "from tensorflow.keras.utils import plot_model"
   ]
  },
  {
   "cell_type": "markdown",
   "id": "above-bracelet",
   "metadata": {},
   "source": [
    "### Model Building"
   ]
  },
  {
   "cell_type": "code",
   "execution_count": 31,
   "id": "anonymous-endorsement",
   "metadata": {},
   "outputs": [],
   "source": [
    "model = Sequential()\n",
    "model.add(LSTM(50, return_sequences= True, input_shape= (20,1)))\n",
    "model.add(LSTM(50, return_sequences=True))\n",
    "model.add(LSTM(50))\n",
    "model.add(Dense(1))\n",
    "model.compile(loss = 'mean_squared_error', optimizer = 'adam')"
   ]
  },
  {
   "cell_type": "code",
   "execution_count": 32,
   "id": "vocal-trance",
   "metadata": {
    "scrolled": true
   },
   "outputs": [
    {
     "name": "stdout",
     "output_type": "stream",
     "text": [
      "Epoch 1/200\n",
      "8/8 [==============================] - 11s 41ms/step - loss: 0.2363\n",
      "Epoch 2/200\n",
      "8/8 [==============================] - 0s 37ms/step - loss: 0.0798\n",
      "Epoch 3/200\n",
      "8/8 [==============================] - 0s 39ms/step - loss: 0.0606\n",
      "Epoch 4/200\n",
      "8/8 [==============================] - 0s 39ms/step - loss: 0.0511\n",
      "Epoch 5/200\n",
      "8/8 [==============================] - 0s 40ms/step - loss: 0.0491\n",
      "Epoch 6/200\n",
      "8/8 [==============================] - 0s 38ms/step - loss: 0.0487\n",
      "Epoch 7/200\n",
      "8/8 [==============================] - 0s 38ms/step - loss: 0.0478\n",
      "Epoch 8/200\n",
      "8/8 [==============================] - 0s 39ms/step - loss: 0.0482\n",
      "Epoch 9/200\n",
      "8/8 [==============================] - 0s 42ms/step - loss: 0.0442\n",
      "Epoch 10/200\n",
      "8/8 [==============================] - 0s 40ms/step - loss: 0.0452\n",
      "Epoch 11/200\n",
      "8/8 [==============================] - 0s 43ms/step - loss: 0.0375\n",
      "Epoch 12/200\n",
      "8/8 [==============================] - 0s 39ms/step - loss: 0.0395\n",
      "Epoch 13/200\n",
      "8/8 [==============================] - 0s 40ms/step - loss: 0.0285\n",
      "Epoch 14/200\n",
      "8/8 [==============================] - 0s 39ms/step - loss: 0.0242\n",
      "Epoch 15/200\n",
      "8/8 [==============================] - 0s 40ms/step - loss: 0.0261\n",
      "Epoch 16/200\n",
      "8/8 [==============================] - 0s 39ms/step - loss: 0.0218\n",
      "Epoch 17/200\n",
      "8/8 [==============================] - 0s 41ms/step - loss: 0.0186\n",
      "Epoch 18/200\n",
      "8/8 [==============================] - 0s 62ms/step - loss: 0.0185: 0s - loss: 0.01\n",
      "Epoch 19/200\n",
      "8/8 [==============================] - 0s 47ms/step - loss: 0.0208\n",
      "Epoch 20/200\n",
      "8/8 [==============================] - 0s 43ms/step - loss: 0.0194\n",
      "Epoch 21/200\n",
      "8/8 [==============================] - 0s 45ms/step - loss: 0.0179\n",
      "Epoch 22/200\n",
      "8/8 [==============================] - 0s 39ms/step - loss: 0.0173\n",
      "Epoch 23/200\n",
      "8/8 [==============================] - 0s 46ms/step - loss: 0.0159\n",
      "Epoch 24/200\n",
      "8/8 [==============================] - 0s 45ms/step - loss: 0.0128\n",
      "Epoch 25/200\n",
      "8/8 [==============================] - 0s 53ms/step - loss: 0.0131\n",
      "Epoch 26/200\n",
      "8/8 [==============================] - 0s 44ms/step - loss: 0.0120\n",
      "Epoch 27/200\n",
      "8/8 [==============================] - 0s 46ms/step - loss: 0.0128\n",
      "Epoch 28/200\n",
      "8/8 [==============================] - 0s 53ms/step - loss: 0.0131\n",
      "Epoch 29/200\n",
      "8/8 [==============================] - 0s 41ms/step - loss: 0.0105\n",
      "Epoch 30/200\n",
      "8/8 [==============================] - 0s 48ms/step - loss: 0.0082\n",
      "Epoch 31/200\n",
      "8/8 [==============================] - 0s 46ms/step - loss: 0.0093\n",
      "Epoch 32/200\n",
      "8/8 [==============================] - 0s 49ms/step - loss: 0.0088\n",
      "Epoch 33/200\n",
      "8/8 [==============================] - 0s 41ms/step - loss: 0.0105\n",
      "Epoch 34/200\n",
      "8/8 [==============================] - 0s 40ms/step - loss: 0.0095\n",
      "Epoch 35/200\n",
      "8/8 [==============================] - 0s 40ms/step - loss: 0.0092\n",
      "Epoch 36/200\n",
      "8/8 [==============================] - 0s 50ms/step - loss: 0.0087\n",
      "Epoch 37/200\n",
      "8/8 [==============================] - 0s 59ms/step - loss: 0.0090\n",
      "Epoch 38/200\n",
      "8/8 [==============================] - 0s 39ms/step - loss: 0.0095\n",
      "Epoch 39/200\n",
      "8/8 [==============================] - 0s 47ms/step - loss: 0.0097\n",
      "Epoch 40/200\n",
      "8/8 [==============================] - 0s 47ms/step - loss: 0.0079\n",
      "Epoch 41/200\n",
      "8/8 [==============================] - 0s 45ms/step - loss: 0.0093\n",
      "Epoch 42/200\n",
      "8/8 [==============================] - 0s 47ms/step - loss: 0.0104\n",
      "Epoch 43/200\n",
      "8/8 [==============================] - 0s 40ms/step - loss: 0.0088\n",
      "Epoch 44/200\n",
      "8/8 [==============================] - 0s 38ms/step - loss: 0.0088\n",
      "Epoch 45/200\n",
      "8/8 [==============================] - 0s 45ms/step - loss: 0.0083: 0s - loss: 0.0\n",
      "Epoch 46/200\n",
      "8/8 [==============================] - 0s 43ms/step - loss: 0.0079\n",
      "Epoch 47/200\n",
      "8/8 [==============================] - 0s 41ms/step - loss: 0.0071\n",
      "Epoch 48/200\n",
      "8/8 [==============================] - 0s 43ms/step - loss: 0.0095\n",
      "Epoch 49/200\n",
      "8/8 [==============================] - 0s 40ms/step - loss: 0.0083\n",
      "Epoch 50/200\n",
      "8/8 [==============================] - 0s 39ms/step - loss: 0.0074\n",
      "Epoch 51/200\n",
      "8/8 [==============================] - 0s 40ms/step - loss: 0.0079\n",
      "Epoch 52/200\n",
      "8/8 [==============================] - 0s 41ms/step - loss: 0.0097\n",
      "Epoch 53/200\n",
      "8/8 [==============================] - 0s 40ms/step - loss: 0.0078\n",
      "Epoch 54/200\n",
      "8/8 [==============================] - 0s 41ms/step - loss: 0.0061\n",
      "Epoch 55/200\n",
      "8/8 [==============================] - 0s 40ms/step - loss: 0.0081\n",
      "Epoch 56/200\n",
      "8/8 [==============================] - 0s 41ms/step - loss: 0.0059\n",
      "Epoch 57/200\n",
      "8/8 [==============================] - 0s 43ms/step - loss: 0.0072\n",
      "Epoch 58/200\n",
      "8/8 [==============================] - ETA: 0s - loss: 0.006 - 0s 44ms/step - loss: 0.0066\n",
      "Epoch 59/200\n",
      "8/8 [==============================] - 0s 45ms/step - loss: 0.0070\n",
      "Epoch 60/200\n",
      "8/8 [==============================] - 0s 43ms/step - loss: 0.0072\n",
      "Epoch 61/200\n",
      "8/8 [==============================] - 0s 40ms/step - loss: 0.0056\n",
      "Epoch 62/200\n",
      "8/8 [==============================] - 0s 41ms/step - loss: 0.0060\n",
      "Epoch 63/200\n",
      "8/8 [==============================] - 0s 42ms/step - loss: 0.0070\n",
      "Epoch 64/200\n",
      "8/8 [==============================] - 0s 47ms/step - loss: 0.0084\n",
      "Epoch 65/200\n",
      "8/8 [==============================] - 0s 40ms/step - loss: 0.0059\n",
      "Epoch 66/200\n",
      "8/8 [==============================] - 0s 41ms/step - loss: 0.0067\n",
      "Epoch 67/200\n",
      "8/8 [==============================] - 0s 40ms/step - loss: 0.0069\n",
      "Epoch 68/200\n",
      "8/8 [==============================] - 0s 46ms/step - loss: 0.0063\n",
      "Epoch 69/200\n",
      "8/8 [==============================] - 0s 55ms/step - loss: 0.0046\n",
      "Epoch 70/200\n",
      "8/8 [==============================] - 0s 46ms/step - loss: 0.0054\n",
      "Epoch 71/200\n",
      "8/8 [==============================] - ETA: 0s - loss: 0.006 - 0s 40ms/step - loss: 0.0065\n",
      "Epoch 72/200\n",
      "8/8 [==============================] - 0s 41ms/step - loss: 0.0068\n",
      "Epoch 73/200\n",
      "8/8 [==============================] - 0s 38ms/step - loss: 0.0047\n",
      "Epoch 74/200\n",
      "8/8 [==============================] - 0s 40ms/step - loss: 0.0061\n",
      "Epoch 75/200\n",
      "8/8 [==============================] - 0s 39ms/step - loss: 0.0047\n",
      "Epoch 76/200\n",
      "8/8 [==============================] - 0s 37ms/step - loss: 0.0057\n",
      "Epoch 77/200\n",
      "8/8 [==============================] - 0s 38ms/step - loss: 0.0056\n",
      "Epoch 78/200\n",
      "8/8 [==============================] - 0s 38ms/step - loss: 0.0063\n",
      "Epoch 79/200\n",
      "8/8 [==============================] - 0s 38ms/step - loss: 0.0066\n",
      "Epoch 80/200\n",
      "8/8 [==============================] - 0s 38ms/step - loss: 0.0044\n",
      "Epoch 81/200\n",
      "8/8 [==============================] - 0s 39ms/step - loss: 0.0047\n",
      "Epoch 82/200\n",
      "8/8 [==============================] - 0s 38ms/step - loss: 0.0052\n",
      "Epoch 83/200\n",
      "8/8 [==============================] - 0s 38ms/step - loss: 0.0052\n",
      "Epoch 84/200\n",
      "8/8 [==============================] - 0s 42ms/step - loss: 0.0039\n",
      "Epoch 85/200\n",
      "8/8 [==============================] - 0s 41ms/step - loss: 0.0041\n",
      "Epoch 86/200\n",
      "8/8 [==============================] - 0s 38ms/step - loss: 0.0057\n",
      "Epoch 87/200\n",
      "8/8 [==============================] - 0s 39ms/step - loss: 0.0040\n",
      "Epoch 88/200\n",
      "8/8 [==============================] - 0s 39ms/step - loss: 0.0055\n",
      "Epoch 89/200\n",
      "8/8 [==============================] - 0s 39ms/step - loss: 0.0043\n",
      "Epoch 90/200\n",
      "8/8 [==============================] - 0s 40ms/step - loss: 0.0040\n",
      "Epoch 91/200\n",
      "8/8 [==============================] - 0s 41ms/step - loss: 0.0044\n",
      "Epoch 92/200\n",
      "8/8 [==============================] - 0s 39ms/step - loss: 0.0051\n",
      "Epoch 93/200\n",
      "8/8 [==============================] - 0s 39ms/step - loss: 0.0055\n",
      "Epoch 94/200\n",
      "8/8 [==============================] - 0s 42ms/step - loss: 0.0064\n",
      "Epoch 95/200\n",
      "8/8 [==============================] - 0s 44ms/step - loss: 0.0042\n",
      "Epoch 96/200\n",
      "8/8 [==============================] - ETA: 0s - loss: 0.004 - 0s 41ms/step - loss: 0.0046\n",
      "Epoch 97/200\n",
      "8/8 [==============================] - 0s 42ms/step - loss: 0.0042\n",
      "Epoch 98/200\n",
      "8/8 [==============================] - 0s 45ms/step - loss: 0.0035\n",
      "Epoch 99/200\n",
      "8/8 [==============================] - 0s 42ms/step - loss: 0.0041\n",
      "Epoch 100/200\n",
      "8/8 [==============================] - 0s 39ms/step - loss: 0.0050\n",
      "Epoch 101/200\n",
      "8/8 [==============================] - 0s 38ms/step - loss: 0.0041\n",
      "Epoch 102/200\n"
     ]
    },
    {
     "name": "stdout",
     "output_type": "stream",
     "text": [
      "8/8 [==============================] - 0s 42ms/step - loss: 0.0050\n",
      "Epoch 103/200\n",
      "8/8 [==============================] - 0s 43ms/step - loss: 0.0034\n",
      "Epoch 104/200\n",
      "8/8 [==============================] - 0s 43ms/step - loss: 0.0046\n",
      "Epoch 105/200\n",
      "8/8 [==============================] - 0s 49ms/step - loss: 0.0047\n",
      "Epoch 106/200\n",
      "8/8 [==============================] - 0s 43ms/step - loss: 0.0036\n",
      "Epoch 107/200\n",
      "8/8 [==============================] - 0s 40ms/step - loss: 0.0037\n",
      "Epoch 108/200\n",
      "8/8 [==============================] - 0s 37ms/step - loss: 0.0044\n",
      "Epoch 109/200\n",
      "8/8 [==============================] - 0s 37ms/step - loss: 0.0040\n",
      "Epoch 110/200\n",
      "8/8 [==============================] - 0s 43ms/step - loss: 0.0032\n",
      "Epoch 111/200\n",
      "8/8 [==============================] - 0s 39ms/step - loss: 0.0027\n",
      "Epoch 112/200\n",
      "8/8 [==============================] - 0s 38ms/step - loss: 0.0030\n",
      "Epoch 113/200\n",
      "8/8 [==============================] - 0s 43ms/step - loss: 0.0035\n",
      "Epoch 114/200\n",
      "8/8 [==============================] - 0s 45ms/step - loss: 0.0040\n",
      "Epoch 115/200\n",
      "8/8 [==============================] - 0s 41ms/step - loss: 0.0044\n",
      "Epoch 116/200\n",
      "8/8 [==============================] - 0s 44ms/step - loss: 0.0037\n",
      "Epoch 117/200\n",
      "8/8 [==============================] - 0s 35ms/step - loss: 0.0035\n",
      "Epoch 118/200\n",
      "8/8 [==============================] - 0s 47ms/step - loss: 0.0033\n",
      "Epoch 119/200\n",
      "8/8 [==============================] - 0s 42ms/step - loss: 0.0034\n",
      "Epoch 120/200\n",
      "8/8 [==============================] - 0s 46ms/step - loss: 0.0034\n",
      "Epoch 121/200\n",
      "8/8 [==============================] - 0s 46ms/step - loss: 0.0041\n",
      "Epoch 122/200\n",
      "8/8 [==============================] - 0s 50ms/step - loss: 0.0026\n",
      "Epoch 123/200\n",
      "8/8 [==============================] - 0s 43ms/step - loss: 0.0031\n",
      "Epoch 124/200\n",
      "8/8 [==============================] - 0s 42ms/step - loss: 0.0037\n",
      "Epoch 125/200\n",
      "8/8 [==============================] - 0s 38ms/step - loss: 0.0031\n",
      "Epoch 126/200\n",
      "8/8 [==============================] - 0s 36ms/step - loss: 0.0035\n",
      "Epoch 127/200\n",
      "8/8 [==============================] - 0s 42ms/step - loss: 0.0042\n",
      "Epoch 128/200\n",
      "8/8 [==============================] - 0s 39ms/step - loss: 0.0041\n",
      "Epoch 129/200\n",
      "8/8 [==============================] - 0s 47ms/step - loss: 0.0033\n",
      "Epoch 130/200\n",
      "8/8 [==============================] - 0s 39ms/step - loss: 0.0035\n",
      "Epoch 131/200\n",
      "8/8 [==============================] - 0s 39ms/step - loss: 0.0039\n",
      "Epoch 132/200\n",
      "8/8 [==============================] - 0s 39ms/step - loss: 0.0039\n",
      "Epoch 133/200\n",
      "8/8 [==============================] - 0s 40ms/step - loss: 0.0032\n",
      "Epoch 134/200\n",
      "8/8 [==============================] - 0s 42ms/step - loss: 0.0030\n",
      "Epoch 135/200\n",
      "8/8 [==============================] - 0s 38ms/step - loss: 0.0030\n",
      "Epoch 136/200\n",
      "8/8 [==============================] - 0s 43ms/step - loss: 0.0037\n",
      "Epoch 137/200\n",
      "8/8 [==============================] - 0s 40ms/step - loss: 0.0028\n",
      "Epoch 138/200\n",
      "8/8 [==============================] - 0s 40ms/step - loss: 0.0031\n",
      "Epoch 139/200\n",
      "8/8 [==============================] - 0s 37ms/step - loss: 0.0035\n",
      "Epoch 140/200\n",
      "8/8 [==============================] - 0s 38ms/step - loss: 0.0029\n",
      "Epoch 141/200\n",
      "8/8 [==============================] - 0s 45ms/step - loss: 0.0030\n",
      "Epoch 142/200\n",
      "8/8 [==============================] - 0s 40ms/step - loss: 0.0042\n",
      "Epoch 143/200\n",
      "8/8 [==============================] - 0s 42ms/step - loss: 0.0028\n",
      "Epoch 144/200\n",
      "8/8 [==============================] - 0s 40ms/step - loss: 0.0028\n",
      "Epoch 145/200\n",
      "8/8 [==============================] - 0s 38ms/step - loss: 0.0027\n",
      "Epoch 146/200\n",
      "8/8 [==============================] - 0s 39ms/step - loss: 0.0030\n",
      "Epoch 147/200\n",
      "8/8 [==============================] - 0s 38ms/step - loss: 0.0038\n",
      "Epoch 148/200\n",
      "8/8 [==============================] - 0s 37ms/step - loss: 0.0035\n",
      "Epoch 149/200\n",
      "8/8 [==============================] - 0s 38ms/step - loss: 0.0028\n",
      "Epoch 150/200\n",
      "8/8 [==============================] - 0s 46ms/step - loss: 0.0030\n",
      "Epoch 151/200\n",
      "8/8 [==============================] - 0s 40ms/step - loss: 0.0030\n",
      "Epoch 152/200\n",
      "8/8 [==============================] - 0s 45ms/step - loss: 0.0026\n",
      "Epoch 153/200\n",
      "8/8 [==============================] - 0s 39ms/step - loss: 0.0051\n",
      "Epoch 154/200\n",
      "8/8 [==============================] - 0s 45ms/step - loss: 0.0039\n",
      "Epoch 155/200\n",
      "8/8 [==============================] - 0s 41ms/step - loss: 0.0027\n",
      "Epoch 156/200\n",
      "8/8 [==============================] - 0s 44ms/step - loss: 0.0031\n",
      "Epoch 157/200\n",
      "8/8 [==============================] - 0s 39ms/step - loss: 0.0030\n",
      "Epoch 158/200\n",
      "8/8 [==============================] - 0s 39ms/step - loss: 0.0029\n",
      "Epoch 159/200\n",
      "8/8 [==============================] - 0s 39ms/step - loss: 0.0038\n",
      "Epoch 160/200\n",
      "8/8 [==============================] - 0s 40ms/step - loss: 0.0032\n",
      "Epoch 161/200\n",
      "8/8 [==============================] - 0s 38ms/step - loss: 0.0032\n",
      "Epoch 162/200\n",
      "8/8 [==============================] - 0s 39ms/step - loss: 0.0033\n",
      "Epoch 163/200\n",
      "8/8 [==============================] - 0s 39ms/step - loss: 0.0039\n",
      "Epoch 164/200\n",
      "8/8 [==============================] - 0s 40ms/step - loss: 0.0029\n",
      "Epoch 165/200\n",
      "8/8 [==============================] - 0s 40ms/step - loss: 0.0027\n",
      "Epoch 166/200\n",
      "8/8 [==============================] - 0s 38ms/step - loss: 0.0034\n",
      "Epoch 167/200\n",
      "8/8 [==============================] - 0s 38ms/step - loss: 0.0038\n",
      "Epoch 168/200\n",
      "8/8 [==============================] - 0s 41ms/step - loss: 0.0024\n",
      "Epoch 169/200\n",
      "8/8 [==============================] - 0s 40ms/step - loss: 0.0028\n",
      "Epoch 170/200\n",
      "8/8 [==============================] - 0s 39ms/step - loss: 0.0029\n",
      "Epoch 171/200\n",
      "8/8 [==============================] - 0s 41ms/step - loss: 0.0033\n",
      "Epoch 172/200\n",
      "8/8 [==============================] - 0s 39ms/step - loss: 0.0037\n",
      "Epoch 173/200\n",
      "8/8 [==============================] - 0s 40ms/step - loss: 0.0033\n",
      "Epoch 174/200\n",
      "8/8 [==============================] - 0s 39ms/step - loss: 0.0030\n",
      "Epoch 175/200\n",
      "8/8 [==============================] - 0s 39ms/step - loss: 0.0029\n",
      "Epoch 176/200\n",
      "8/8 [==============================] - 0s 39ms/step - loss: 0.0026\n",
      "Epoch 177/200\n",
      "8/8 [==============================] - 0s 40ms/step - loss: 0.0023\n",
      "Epoch 178/200\n",
      "8/8 [==============================] - 0s 40ms/step - loss: 0.0029\n",
      "Epoch 179/200\n",
      "8/8 [==============================] - 0s 39ms/step - loss: 0.0032\n",
      "Epoch 180/200\n",
      "8/8 [==============================] - 0s 39ms/step - loss: 0.0025\n",
      "Epoch 181/200\n",
      "8/8 [==============================] - 0s 39ms/step - loss: 0.0026\n",
      "Epoch 182/200\n",
      "8/8 [==============================] - 0s 39ms/step - loss: 0.0027\n",
      "Epoch 183/200\n",
      "8/8 [==============================] - 0s 38ms/step - loss: 0.0034\n",
      "Epoch 184/200\n",
      "8/8 [==============================] - 0s 40ms/step - loss: 0.0030\n",
      "Epoch 185/200\n",
      "8/8 [==============================] - 0s 39ms/step - loss: 0.0036\n",
      "Epoch 186/200\n",
      "8/8 [==============================] - 0s 40ms/step - loss: 0.0030\n",
      "Epoch 187/200\n",
      "8/8 [==============================] - 0s 40ms/step - loss: 0.0036\n",
      "Epoch 188/200\n",
      "8/8 [==============================] - 0s 40ms/step - loss: 0.0038\n",
      "Epoch 189/200\n",
      "8/8 [==============================] - 0s 41ms/step - loss: 0.0042\n",
      "Epoch 190/200\n",
      "8/8 [==============================] - 0s 46ms/step - loss: 0.0042\n",
      "Epoch 191/200\n",
      "8/8 [==============================] - 0s 42ms/step - loss: 0.0038\n",
      "Epoch 192/200\n",
      "8/8 [==============================] - 0s 43ms/step - loss: 0.0038\n",
      "Epoch 193/200\n",
      "8/8 [==============================] - 0s 42ms/step - loss: 0.0023\n",
      "Epoch 194/200\n",
      "8/8 [==============================] - 0s 42ms/step - loss: 0.0030\n",
      "Epoch 195/200\n",
      "8/8 [==============================] - 0s 40ms/step - loss: 0.0030\n",
      "Epoch 196/200\n",
      "8/8 [==============================] - 0s 40ms/step - loss: 0.0034\n",
      "Epoch 197/200\n",
      "8/8 [==============================] - 0s 41ms/step - loss: 0.0028\n",
      "Epoch 198/200\n",
      "8/8 [==============================] - 0s 40ms/step - loss: 0.0031\n",
      "Epoch 199/200\n",
      "8/8 [==============================] - 0s 43ms/step - loss: 0.0027\n",
      "Epoch 200/200\n",
      "8/8 [==============================] - 0s 41ms/step - loss: 0.0027\n"
     ]
    },
    {
     "data": {
      "text/plain": [
       "<tensorflow.python.keras.callbacks.History at 0x24678a4eaf0>"
      ]
     },
     "execution_count": 32,
     "metadata": {},
     "output_type": "execute_result"
    }
   ],
   "source": [
    "model.fit(x_train,y_train,epochs=200, verbose=1, )"
   ]
  },
  {
   "cell_type": "code",
   "execution_count": 33,
   "id": "collected-grade",
   "metadata": {},
   "outputs": [
    {
     "name": "stdout",
     "output_type": "stream",
     "text": [
      "4/4 [==============================] - 2s 11ms/step - loss: 0.0072\n"
     ]
    },
    {
     "data": {
      "text/plain": [
       "0.00724076246842742"
      ]
     },
     "execution_count": 33,
     "metadata": {},
     "output_type": "execute_result"
    }
   ],
   "source": [
    "model.evaluate(x_test, y_test)"
   ]
  },
  {
   "cell_type": "markdown",
   "id": "durable-lincoln",
   "metadata": {},
   "source": [
    "### Predictions and Model evaluation"
   ]
  },
  {
   "cell_type": "markdown",
   "id": "verified-knock",
   "metadata": {},
   "source": [
    "Predictions on training set"
   ]
  },
  {
   "cell_type": "code",
   "execution_count": 44,
   "id": "exposed-replacement",
   "metadata": {},
   "outputs": [
    {
     "name": "stdout",
     "output_type": "stream",
     "text": [
      "Predicted Value 0.72967535\n",
      "Expected value 0.7083333333333334\n"
     ]
    }
   ],
   "source": [
    "print(\"Predicted Value\",model.predict(x_train)[4][0])\n",
    "print(\"Expected value\",y_train[4][0])"
   ]
  },
  {
   "cell_type": "markdown",
   "id": "processed-supplement",
   "metadata": {},
   "source": [
    "Predictions on testing set"
   ]
  },
  {
   "cell_type": "code",
   "execution_count": 45,
   "id": "nutritional-first",
   "metadata": {},
   "outputs": [],
   "source": [
    "predictions=model.predict(x_test)"
   ]
  },
  {
   "cell_type": "code",
   "execution_count": 46,
   "id": "powerful-endorsement",
   "metadata": {},
   "outputs": [
    {
     "name": "stdout",
     "output_type": "stream",
     "text": [
      "Predicted Value 0.42129293\n",
      "Expected Value 0.41666666666666663\n"
     ]
    }
   ],
   "source": [
    "print(\"Predicted Value\",predictions[2][0])\n",
    "print(\"Expected Value\",y_test[2][0])"
   ]
  },
  {
   "cell_type": "code",
   "execution_count": null,
   "id": "subtle-support",
   "metadata": {},
   "outputs": [],
   "source": []
  },
  {
   "cell_type": "code",
   "execution_count": 47,
   "id": "medical-shelf",
   "metadata": {},
   "outputs": [
    {
     "data": {
      "text/plain": [
       "(105, 1)"
      ]
     },
     "execution_count": 47,
     "metadata": {},
     "output_type": "execute_result"
    }
   ],
   "source": [
    "predictions.shape"
   ]
  },
  {
   "cell_type": "code",
   "execution_count": 48,
   "id": "weird-atlas",
   "metadata": {},
   "outputs": [
    {
     "data": {
      "text/plain": [
       "(105, 1)"
      ]
     },
     "execution_count": 48,
     "metadata": {},
     "output_type": "execute_result"
    }
   ],
   "source": [
    "y_test.shape"
   ]
  },
  {
   "cell_type": "code",
   "execution_count": 49,
   "id": "centered-factor",
   "metadata": {},
   "outputs": [],
   "source": [
    "pred_df=pd.DataFrame(predictions)"
   ]
  },
  {
   "cell_type": "code",
   "execution_count": 50,
   "id": "liberal-newcastle",
   "metadata": {},
   "outputs": [],
   "source": [
    "pred_df['TrueValues']=y_test"
   ]
  },
  {
   "cell_type": "code",
   "execution_count": 51,
   "id": "solved-mayor",
   "metadata": {},
   "outputs": [],
   "source": [
    "pred_df_new = pred_df.rename(columns={ 0: 'Predictions'})"
   ]
  },
  {
   "cell_type": "code",
   "execution_count": 52,
   "id": "powerful-nylon",
   "metadata": {},
   "outputs": [
    {
     "data": {
      "text/html": [
       "<div>\n",
       "<style scoped>\n",
       "    .dataframe tbody tr th:only-of-type {\n",
       "        vertical-align: middle;\n",
       "    }\n",
       "\n",
       "    .dataframe tbody tr th {\n",
       "        vertical-align: top;\n",
       "    }\n",
       "\n",
       "    .dataframe thead th {\n",
       "        text-align: right;\n",
       "    }\n",
       "</style>\n",
       "<table border=\"1\" class=\"dataframe\">\n",
       "  <thead>\n",
       "    <tr style=\"text-align: right;\">\n",
       "      <th></th>\n",
       "      <th>Predictions</th>\n",
       "      <th>TrueValues</th>\n",
       "    </tr>\n",
       "  </thead>\n",
       "  <tbody>\n",
       "    <tr>\n",
       "      <th>0</th>\n",
       "      <td>0.454919</td>\n",
       "      <td>0.541667</td>\n",
       "    </tr>\n",
       "    <tr>\n",
       "      <th>1</th>\n",
       "      <td>0.561748</td>\n",
       "      <td>0.416667</td>\n",
       "    </tr>\n",
       "    <tr>\n",
       "      <th>2</th>\n",
       "      <td>0.421293</td>\n",
       "      <td>0.416667</td>\n",
       "    </tr>\n",
       "    <tr>\n",
       "      <th>3</th>\n",
       "      <td>0.430713</td>\n",
       "      <td>0.458333</td>\n",
       "    </tr>\n",
       "    <tr>\n",
       "      <th>4</th>\n",
       "      <td>0.500890</td>\n",
       "      <td>0.500000</td>\n",
       "    </tr>\n",
       "    <tr>\n",
       "      <th>...</th>\n",
       "      <td>...</td>\n",
       "      <td>...</td>\n",
       "    </tr>\n",
       "    <tr>\n",
       "      <th>100</th>\n",
       "      <td>0.245354</td>\n",
       "      <td>0.291667</td>\n",
       "    </tr>\n",
       "    <tr>\n",
       "      <th>101</th>\n",
       "      <td>0.299582</td>\n",
       "      <td>0.208333</td>\n",
       "    </tr>\n",
       "    <tr>\n",
       "      <th>102</th>\n",
       "      <td>0.251500</td>\n",
       "      <td>0.250000</td>\n",
       "    </tr>\n",
       "    <tr>\n",
       "      <th>103</th>\n",
       "      <td>0.293704</td>\n",
       "      <td>0.250000</td>\n",
       "    </tr>\n",
       "    <tr>\n",
       "      <th>104</th>\n",
       "      <td>0.327169</td>\n",
       "      <td>0.291667</td>\n",
       "    </tr>\n",
       "  </tbody>\n",
       "</table>\n",
       "<p>105 rows × 2 columns</p>\n",
       "</div>"
      ],
      "text/plain": [
       "     Predictions  TrueValues\n",
       "0       0.454919    0.541667\n",
       "1       0.561748    0.416667\n",
       "2       0.421293    0.416667\n",
       "3       0.430713    0.458333\n",
       "4       0.500890    0.500000\n",
       "..           ...         ...\n",
       "100     0.245354    0.291667\n",
       "101     0.299582    0.208333\n",
       "102     0.251500    0.250000\n",
       "103     0.293704    0.250000\n",
       "104     0.327169    0.291667\n",
       "\n",
       "[105 rows x 2 columns]"
      ]
     },
     "execution_count": 52,
     "metadata": {},
     "output_type": "execute_result"
    }
   ],
   "source": [
    "pred_df_new"
   ]
  },
  {
   "cell_type": "code",
   "execution_count": 53,
   "id": "adaptive-legislation",
   "metadata": {},
   "outputs": [
    {
     "data": {
      "text/plain": [
       "Text(0.5, 1.0, 'Predictions VS True Values on Testing Set')"
      ]
     },
     "execution_count": 53,
     "metadata": {},
     "output_type": "execute_result"
    },
    {
     "data": {
      "image/png": "[encoded data removed]",
      "text/plain": [
       "<Figure size 864x576 with 1 Axes>"
      ]
     },
     "metadata": {
      "needs_background": "light"
     },
     "output_type": "display_data"
    }
   ],
   "source": [
    "plt.figure(figsize=(12,8))\n",
    "sns.lineplot(data= pred_df_new)\n",
    "plt.title(\"Predictions VS True Values on Testing Set\")"
   ]
  },
  {
   "cell_type": "code",
   "execution_count": null,
   "id": "mounted-restoration",
   "metadata": {},
   "outputs": [],
   "source": []
  },
  {
   "cell_type": "markdown",
   "id": "comfortable-adoption",
   "metadata": {},
   "source": [
    "### Weather Predictions for next 30 Days"
   ]
  },
  {
   "cell_type": "markdown",
   "id": "dutch-charm",
   "metadata": {},
   "source": [
    "we are using last 10 days input for 1st day output"
   ]
  },
  {
   "cell_type": "code",
   "execution_count": 54,
   "id": "separate-cholesterol",
   "metadata": {},
   "outputs": [
    {
     "data": {
      "text/plain": [
       "(362, 1)"
      ]
     },
     "execution_count": 54,
     "metadata": {},
     "output_type": "execute_result"
    }
   ],
   "source": [
    "data_scaled.shape"
   ]
  },
  {
   "cell_type": "code",
   "execution_count": 55,
   "id": "certified-intermediate",
   "metadata": {},
   "outputs": [],
   "source": [
    "x_input=data_scaled[:20]"
   ]
  },
  {
   "cell_type": "code",
   "execution_count": 56,
   "id": "cognitive-terrorist",
   "metadata": {},
   "outputs": [
    {
     "data": {
      "text/plain": [
       "(20, 1)"
      ]
     },
     "execution_count": 56,
     "metadata": {},
     "output_type": "execute_result"
    }
   ],
   "source": [
    "x_input.shape"
   ]
  },
  {
   "cell_type": "code",
   "execution_count": 57,
   "id": "matched-treaty",
   "metadata": {},
   "outputs": [],
   "source": [
    "# now reshaping the data\n",
    "x_input = x_input.reshape(1, -1)"
   ]
  },
  {
   "cell_type": "code",
   "execution_count": 58,
   "id": "earlier-timber",
   "metadata": {},
   "outputs": [
    {
     "data": {
      "text/plain": [
       "(1, 20)"
      ]
     },
     "execution_count": 58,
     "metadata": {},
     "output_type": "execute_result"
    }
   ],
   "source": [
    "x_input.shape"
   ]
  },
  {
   "cell_type": "code",
   "execution_count": 59,
   "id": "younger-clinton",
   "metadata": {},
   "outputs": [],
   "source": [
    "# x_input = x_input.reshape((1, 20,1))\n",
    "# yhat = model.predict(x_input, verbose=0)"
   ]
  },
  {
   "cell_type": "code",
   "execution_count": 60,
   "id": "acceptable-tablet",
   "metadata": {},
   "outputs": [],
   "source": [
    "temp_input = list(x_input)\n",
    "temp_input = temp_input[0].tolist()"
   ]
  },
  {
   "cell_type": "markdown",
   "id": "basic-utility",
   "metadata": {},
   "source": [
    "creatitng a  functions which returns the next 30 days prediction"
   ]
  },
  {
   "cell_type": "code",
   "execution_count": 61,
   "id": "numerous-puzzle",
   "metadata": {},
   "outputs": [
    {
     "name": "stdout",
     "output_type": "stream",
     "text": [
      "[0.8552182]\n",
      "1 day input [0.75       0.58333333 0.58333333 0.54166667 0.45833333 0.45833333\n",
      " 0.45833333 0.375      0.375      0.375      0.375      0.375\n",
      " 0.375      0.41666667 0.5        0.54166667 0.66666667 0.75\n",
      " 0.83333333 0.85521817]\n",
      "1 day output [[0.8508112]]\n",
      "2 day input [0.58333333 0.58333333 0.54166667 0.45833333 0.45833333 0.45833333\n",
      " 0.375      0.375      0.375      0.375      0.375      0.375\n",
      " 0.41666667 0.5        0.54166667 0.66666667 0.75       0.83333333\n",
      " 0.85521817 0.85081118]\n",
      "2 day output [[0.81170666]]\n",
      "3 day input [0.58333333 0.54166667 0.45833333 0.45833333 0.45833333 0.375\n",
      " 0.375      0.375      0.375      0.375      0.375      0.41666667\n",
      " 0.5        0.54166667 0.66666667 0.75       0.83333333 0.85521817\n",
      " 0.85081118 0.81170666]\n",
      "3 day output [[0.74802554]]\n",
      "4 day input [0.54166667 0.45833333 0.45833333 0.45833333 0.375      0.375\n",
      " 0.375      0.375      0.375      0.375      0.41666667 0.5\n",
      " 0.54166667 0.66666667 0.75       0.83333333 0.85521817 0.85081118\n",
      " 0.81170666 0.74802554]\n",
      "4 day output [[0.6700679]]\n",
      "5 day input [0.45833333 0.45833333 0.45833333 0.375      0.375      0.375\n",
      " 0.375      0.375      0.375      0.41666667 0.5        0.54166667\n",
      " 0.66666667 0.75       0.83333333 0.85521817 0.85081118 0.81170666\n",
      " 0.74802554 0.67006791]\n",
      "5 day output [[0.5945395]]\n",
      "6 day input [0.45833333 0.45833333 0.375      0.375      0.375      0.375\n",
      " 0.375      0.375      0.41666667 0.5        0.54166667 0.66666667\n",
      " 0.75       0.83333333 0.85521817 0.85081118 0.81170666 0.74802554\n",
      " 0.67006791 0.59453952]\n",
      "6 day output [[0.5346748]]\n",
      "7 day input [0.45833333 0.375      0.375      0.375      0.375      0.375\n",
      " 0.375      0.41666667 0.5        0.54166667 0.66666667 0.75\n",
      " 0.83333333 0.85521817 0.85081118 0.81170666 0.74802554 0.67006791\n",
      " 0.59453952 0.53467482]\n",
      "7 day output [[0.49413666]]\n",
      "8 day input [0.375      0.375      0.375      0.375      0.375      0.375\n",
      " 0.41666667 0.5        0.54166667 0.66666667 0.75       0.83333333\n",
      " 0.85521817 0.85081118 0.81170666 0.74802554 0.67006791 0.59453952\n",
      " 0.53467482 0.49413666]\n",
      "8 day output [[0.47088876]]\n",
      "9 day input [0.375      0.375      0.375      0.375      0.375      0.41666667\n",
      " 0.5        0.54166667 0.66666667 0.75       0.83333333 0.85521817\n",
      " 0.85081118 0.81170666 0.74802554 0.67006791 0.59453952 0.53467482\n",
      " 0.49413666 0.47088876]\n",
      "9 day output [[0.46015733]]\n",
      "10 day input [0.375      0.375      0.375      0.375      0.41666667 0.5\n",
      " 0.54166667 0.66666667 0.75       0.83333333 0.85521817 0.85081118\n",
      " 0.81170666 0.74802554 0.67006791 0.59453952 0.53467482 0.49413666\n",
      " 0.47088876 0.46015733]\n",
      "10 day output [[0.45520526]]\n",
      "11 day input [0.375      0.375      0.375      0.41666667 0.5        0.54166667\n",
      " 0.66666667 0.75       0.83333333 0.85521817 0.85081118 0.81170666\n",
      " 0.74802554 0.67006791 0.59453952 0.53467482 0.49413666 0.47088876\n",
      " 0.46015733 0.45520526]\n",
      "11 day output [[0.4513151]]\n",
      "12 day input [0.375      0.375      0.41666667 0.5        0.54166667 0.66666667\n",
      " 0.75       0.83333333 0.85521817 0.85081118 0.81170666 0.74802554\n",
      " 0.67006791 0.59453952 0.53467482 0.49413666 0.47088876 0.46015733\n",
      " 0.45520526 0.4513151 ]\n",
      "12 day output [[0.44625324]]\n",
      "13 day input [0.375      0.41666667 0.5        0.54166667 0.66666667 0.75\n",
      " 0.83333333 0.85521817 0.85081118 0.81170666 0.74802554 0.67006791\n",
      " 0.59453952 0.53467482 0.49413666 0.47088876 0.46015733 0.45520526\n",
      " 0.4513151  0.44625324]\n",
      "13 day output [[0.44043714]]\n",
      "14 day input [0.41666667 0.5        0.54166667 0.66666667 0.75       0.83333333\n",
      " 0.85521817 0.85081118 0.81170666 0.74802554 0.67006791 0.59453952\n",
      " 0.53467482 0.49413666 0.47088876 0.46015733 0.45520526 0.4513151\n",
      " 0.44625324 0.44043714]\n",
      "14 day output [[0.43668985]]\n",
      "15 day input [0.5        0.54166667 0.66666667 0.75       0.83333333 0.85521817\n",
      " 0.85081118 0.81170666 0.74802554 0.67006791 0.59453952 0.53467482\n",
      " 0.49413666 0.47088876 0.46015733 0.45520526 0.4513151  0.44625324\n",
      " 0.44043714 0.43668985]\n",
      "15 day output [[0.4396122]]\n",
      "16 day input [0.54166667 0.66666667 0.75       0.83333333 0.85521817 0.85081118\n",
      " 0.81170666 0.74802554 0.67006791 0.59453952 0.53467482 0.49413666\n",
      " 0.47088876 0.46015733 0.45520526 0.4513151  0.44625324 0.44043714\n",
      " 0.43668985 0.43961221]\n",
      "16 day output [[0.45424807]]\n",
      "17 day input [0.66666667 0.75       0.83333333 0.85521817 0.85081118 0.81170666\n",
      " 0.74802554 0.67006791 0.59453952 0.53467482 0.49413666 0.47088876\n",
      " 0.46015733 0.45520526 0.4513151  0.44625324 0.44043714 0.43668985\n",
      " 0.43961221 0.45424807]\n",
      "17 day output [[0.48469836]]\n",
      "18 day input [0.75       0.83333333 0.85521817 0.85081118 0.81170666 0.74802554\n",
      " 0.67006791 0.59453952 0.53467482 0.49413666 0.47088876 0.46015733\n",
      " 0.45520526 0.4513151  0.44625324 0.44043714 0.43668985 0.43961221\n",
      " 0.45424807 0.48469836]\n",
      "18 day output [[0.5308364]]\n",
      "19 day input [0.83333333 0.85521817 0.85081118 0.81170666 0.74802554 0.67006791\n",
      " 0.59453952 0.53467482 0.49413666 0.47088876 0.46015733 0.45520526\n",
      " 0.4513151  0.44625324 0.44043714 0.43668985 0.43961221 0.45424807\n",
      " 0.48469836 0.5308364 ]\n",
      "19 day output [[0.5881071]]\n",
      "20 day input [0.85521817 0.85081118 0.81170666 0.74802554 0.67006791 0.59453952\n",
      " 0.53467482 0.49413666 0.47088876 0.46015733 0.45520526 0.4513151\n",
      " 0.44625324 0.44043714 0.43668985 0.43961221 0.45424807 0.48469836\n",
      " 0.5308364  0.58810711]\n",
      "20 day output [[0.6481037]]\n",
      "21 day input [0.85081118 0.81170666 0.74802554 0.67006791 0.59453952 0.53467482\n",
      " 0.49413666 0.47088876 0.46015733 0.45520526 0.4513151  0.44625324\n",
      " 0.44043714 0.43668985 0.43961221 0.45424807 0.48469836 0.5308364\n",
      " 0.58810711 0.64810371]\n",
      "21 day output [[0.70213765]]\n",
      "22 day input [0.81170666 0.74802554 0.67006791 0.59453952 0.53467482 0.49413666\n",
      " 0.47088876 0.46015733 0.45520526 0.4513151  0.44625324 0.44043714\n",
      " 0.43668985 0.43961221 0.45424807 0.48469836 0.5308364  0.58810711\n",
      " 0.64810371 0.70213765]\n",
      "22 day output [[0.74282426]]\n",
      "23 day input [0.74802554 0.67006791 0.59453952 0.53467482 0.49413666 0.47088876\n",
      " 0.46015733 0.45520526 0.4513151  0.44625324 0.44043714 0.43668985\n",
      " 0.43961221 0.45424807 0.48469836 0.5308364  0.58810711 0.64810371\n",
      " 0.70213765 0.74282426]\n",
      "23 day output [[0.76441413]]\n",
      "24 day input [0.67006791 0.59453952 0.53467482 0.49413666 0.47088876 0.46015733\n",
      " 0.45520526 0.4513151  0.44625324 0.44043714 0.43668985 0.43961221\n",
      " 0.45424807 0.48469836 0.5308364  0.58810711 0.64810371 0.70213765\n",
      " 0.74282426 0.76441413]\n",
      "24 day output [[0.7632944]]\n",
      "25 day input [0.59453952 0.53467482 0.49413666 0.47088876 0.46015733 0.45520526\n",
      " 0.4513151  0.44625324 0.44043714 0.43668985 0.43961221 0.45424807\n",
      " 0.48469836 0.5308364  0.58810711 0.64810371 0.70213765 0.74282426\n",
      " 0.76441413 0.7632944 ]\n",
      "25 day output [[0.7401922]]\n",
      "26 day input [0.53467482 0.49413666 0.47088876 0.46015733 0.45520526 0.4513151\n",
      " 0.44625324 0.44043714 0.43668985 0.43961221 0.45424807 0.48469836\n",
      " 0.5308364  0.58810711 0.64810371 0.70213765 0.74282426 0.76441413\n",
      " 0.7632944  0.74019217]\n",
      "26 day output [[0.7007864]]\n",
      "27 day input [0.49413666 0.47088876 0.46015733 0.45520526 0.4513151  0.44625324\n",
      " 0.44043714 0.43668985 0.43961221 0.45424807 0.48469836 0.5308364\n",
      " 0.58810711 0.64810371 0.70213765 0.74282426 0.76441413 0.7632944\n",
      " 0.74019217 0.70078641]\n",
      "27 day output [[0.6535577]]\n",
      "28 day input [0.47088876 0.46015733 0.45520526 0.4513151  0.44625324 0.44043714\n",
      " 0.43668985 0.43961221 0.45424807 0.48469836 0.5308364  0.58810711\n",
      " 0.64810371 0.70213765 0.74282426 0.76441413 0.7632944  0.74019217\n",
      " 0.70078641 0.65355772]\n",
      "28 day output [[0.60702753]]\n",
      "29 day input [0.46015733 0.45520526 0.4513151  0.44625324 0.44043714 0.43668985\n",
      " 0.43961221 0.45424807 0.48469836 0.5308364  0.58810711 0.64810371\n",
      " 0.70213765 0.74282426 0.76441413 0.7632944  0.74019217 0.70078641\n",
      " 0.65355772 0.60702753]\n",
      "29 day output [[0.567539]]\n",
      "[[0.8552181720733643], [0.8508111834526062], [0.8117066621780396], [0.7480255365371704], [0.6700679063796997], [0.5945395231246948], [0.5346748232841492], [0.49413666129112244], [0.47088876366615295], [0.4601573348045349], [0.4552052617073059], [0.45131510496139526], [0.44625324010849], [0.4404371380805969], [0.4366898536682129], [0.4396122097969055], [0.4542480707168579], [0.4846983551979065], [0.5308364033699036], [0.5881071090698242], [0.6481037139892578], [0.7021376490592957], [0.7428242564201355], [0.7644141316413879], [0.7632943987846375], [0.740192174911499], [0.7007864117622375], [0.6535577178001404], [0.607027530670166], [0.5675389766693115]]\n"
     ]
    }
   ],
   "source": [
    "# demonstrate prediction for next 10 days\n",
    "from numpy import array\n",
    "\n",
    "lst_output=[]\n",
    "n_steps=20\n",
    "i=0\n",
    "while(i<30):\n",
    "    \n",
    "    if(len(temp_input)>20):\n",
    "        #print(temp_input)\n",
    "        x_input=np.array(temp_input[1:])\n",
    "        print(\"{} day input {}\".format(i,x_input))\n",
    "        x_input=x_input.reshape(1,-1)\n",
    "        x_input = x_input.reshape((1, n_steps, 1))\n",
    "        #print(x_input)\n",
    "        yhat = model.predict(x_input, verbose=0)\n",
    "        print(\"{} day output {}\".format(i,yhat))\n",
    "        temp_input.extend(yhat[0].tolist())\n",
    "        temp_input=temp_input[1:]\n",
    "        #print(temp_input)\n",
    "        lst_output.extend(yhat.tolist())\n",
    "        i=i+1\n",
    "    else:\n",
    "        x_input = x_input.reshape((1, n_steps,1))\n",
    "        yhat = model.predict(x_input, verbose=0)\n",
    "        print(yhat[0])\n",
    "        temp_input.extend(yhat[0].tolist())\n",
    "#         print(len(temp_input))\n",
    "        lst_output.extend(yhat.tolist())\n",
    "        i=i+1\n",
    "    \n",
    "\n",
    "print(lst_output)"
   ]
  },
  {
   "cell_type": "code",
   "execution_count": 62,
   "id": "alert-water",
   "metadata": {},
   "outputs": [],
   "source": [
    "day_new = np.arange(1,363)\n",
    "day_pred = np.arange(363,393)"
   ]
  },
  {
   "cell_type": "code",
   "execution_count": 63,
   "id": "aerial-lender",
   "metadata": {
    "scrolled": true
   },
   "outputs": [
    {
     "data": {
      "text/plain": [
       "[<matplotlib.lines.Line2D at 0x2460316c730>]"
      ]
     },
     "execution_count": 63,
     "metadata": {},
     "output_type": "execute_result"
    },
    {
     "data": {
      "image/png": "[encoded data removed]",
      "text/plain": [
       "<Figure size 864x576 with 1 Axes>"
      ]
     },
     "metadata": {
      "needs_background": "light"
     },
     "output_type": "display_data"
    }
   ],
   "source": [
    "plt.figure(figsize=(12,8))\n",
    "plt.plot(day_new,data_scaled)\n",
    "plt.plot(day_pred,lst_output)"
   ]
  },
  {
   "cell_type": "code",
   "execution_count": null,
   "id": "oriented-syndrome",
   "metadata": {},
   "outputs": [],
   "source": [
    "data_scaled[:5]"
   ]
  },
  {
   "cell_type": "code",
   "execution_count": 68,
   "id": "interesting-louisiana",
   "metadata": {},
   "outputs": [
    {
     "data": {
      "text/plain": [
       "(362, 1)"
      ]
     },
     "execution_count": 68,
     "metadata": {},
     "output_type": "execute_result"
    }
   ],
   "source": [
    "data_scaled.shape"
   ]
  },
  {
   "cell_type": "code",
   "execution_count": null,
   "id": "interstate-apparatus",
   "metadata": {},
   "outputs": [],
   "source": [
    "# lst_output"
   ]
  },
  {
   "cell_type": "code",
   "execution_count": 79,
   "id": "essential-native",
   "metadata": {},
   "outputs": [
    {
     "data": {
      "text/plain": [
       "[<matplotlib.lines.Line2D at 0x24672e1ce50>]"
      ]
     },
     "execution_count": 79,
     "metadata": {},
     "output_type": "execute_result"
    },
    {
     "data": {
      "image/png": "[encoded data removed]",
      "text/plain": [
       "<Figure size 864x576 with 1 Axes>"
      ]
     },
     "metadata": {
      "needs_background": "light"
     },
     "output_type": "display_data"
    }
   ],
   "source": [
    "df3 = data_scaled.tolist()\n",
    "df3.extend(lst_output)\n",
    "plt.figure(figsize=(12,8))\n",
    "plt.plot(df3)\n"
   ]
  },
  {
   "cell_type": "code",
   "execution_count": null,
   "id": "sunset-space",
   "metadata": {},
   "outputs": [],
   "source": [
    "\n"
   ]
  },
  {
   "cell_type": "code",
   "execution_count": null,
   "id": "normal-stevens",
   "metadata": {},
   "outputs": [],
   "source": []
  }
 ],
 "metadata": {
  "kernelspec": {
   "display_name": "Python 3",
   "language": "python",
   "name": "python3"
  },
  "language_info": {
   "codemirror_mode": {
    "name": "ipython",
    "version": 3
   },
   "file_extension": ".py",
   "mimetype": "text/x-python",
   "name": "python",
   "nbconvert_exporter": "python",
   "pygments_lexer": "ipython3",
   "version": "3.8.7"
  }
 },
 "nbformat": 4,
 "nbformat_minor": 5
}
