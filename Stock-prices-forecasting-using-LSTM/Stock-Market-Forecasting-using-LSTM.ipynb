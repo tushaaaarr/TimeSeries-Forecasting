{
 "cells": [
  {
   "cell_type": "markdown",
   "id": "monthly-bookmark",
   "metadata": {},
   "source": [
    "### Stock Price Prediction using Deep Learning LSTM\n",
    "Predicting the stock market has been the bane and goal of investors since its inception. Every day billions of dollars are traded on the stock exchange, and behind every dollar is an investor hoping to make a profit in one way or another.\n",
    "\n",
    "Entire companies rise and fall daily depending on market behaviour. If an investor is able to accurately predict market movements, he offers a tantalizing promise of wealth and influence. "
   ]
  },
  {
   "cell_type": "markdown",
   "id": "modular-parker",
   "metadata": {},
   "source": [
    "Let’s see how to predict stock prices using Machine Learning and the python programming language. I will start this task by importing all the necessary python libraries that we need for this task:"
   ]
  },
  {
   "cell_type": "code",
   "execution_count": 2,
   "id": "hawaiian-wrong",
   "metadata": {},
   "outputs": [],
   "source": [
    "import pandas as pd\n",
    "import numpy as np\n",
    "import matplotlib.pyplot as plt\n",
    "%matplotlib inline"
   ]
  },
  {
   "cell_type": "code",
   "execution_count": 3,
   "id": "shared-found",
   "metadata": {},
   "outputs": [],
   "source": [
    "df=pd.read_csv('AAPL.csv')"
   ]
  },
  {
   "cell_type": "code",
   "execution_count": 4,
   "id": "industrial-california",
   "metadata": {},
   "outputs": [
    {
     "data": {
      "text/html": [
       "<div>\n",
       "<style scoped>\n",
       "    .dataframe tbody tr th:only-of-type {\n",
       "        vertical-align: middle;\n",
       "    }\n",
       "\n",
       "    .dataframe tbody tr th {\n",
       "        vertical-align: top;\n",
       "    }\n",
       "\n",
       "    .dataframe thead th {\n",
       "        text-align: right;\n",
       "    }\n",
       "</style>\n",
       "<table border=\"1\" class=\"dataframe\">\n",
       "  <thead>\n",
       "    <tr style=\"text-align: right;\">\n",
       "      <th></th>\n",
       "      <th>Unnamed: 0</th>\n",
       "      <th>symbol</th>\n",
       "      <th>date</th>\n",
       "      <th>close</th>\n",
       "      <th>high</th>\n",
       "      <th>low</th>\n",
       "      <th>open</th>\n",
       "      <th>volume</th>\n",
       "      <th>adjClose</th>\n",
       "      <th>adjHigh</th>\n",
       "      <th>adjLow</th>\n",
       "      <th>adjOpen</th>\n",
       "      <th>adjVolume</th>\n",
       "      <th>divCash</th>\n",
       "      <th>splitFactor</th>\n",
       "    </tr>\n",
       "  </thead>\n",
       "  <tbody>\n",
       "    <tr>\n",
       "      <th>0</th>\n",
       "      <td>0</td>\n",
       "      <td>AAPL</td>\n",
       "      <td>2015-05-27 00:00:00+00:00</td>\n",
       "      <td>132.045</td>\n",
       "      <td>132.260</td>\n",
       "      <td>130.05</td>\n",
       "      <td>130.34</td>\n",
       "      <td>45833246</td>\n",
       "      <td>121.682558</td>\n",
       "      <td>121.880685</td>\n",
       "      <td>119.844118</td>\n",
       "      <td>120.111360</td>\n",
       "      <td>45833246</td>\n",
       "      <td>0.0</td>\n",
       "      <td>1.0</td>\n",
       "    </tr>\n",
       "    <tr>\n",
       "      <th>1</th>\n",
       "      <td>1</td>\n",
       "      <td>AAPL</td>\n",
       "      <td>2015-05-28 00:00:00+00:00</td>\n",
       "      <td>131.780</td>\n",
       "      <td>131.950</td>\n",
       "      <td>131.10</td>\n",
       "      <td>131.86</td>\n",
       "      <td>30733309</td>\n",
       "      <td>121.438354</td>\n",
       "      <td>121.595013</td>\n",
       "      <td>120.811718</td>\n",
       "      <td>121.512076</td>\n",
       "      <td>30733309</td>\n",
       "      <td>0.0</td>\n",
       "      <td>1.0</td>\n",
       "    </tr>\n",
       "    <tr>\n",
       "      <th>2</th>\n",
       "      <td>2</td>\n",
       "      <td>AAPL</td>\n",
       "      <td>2015-05-29 00:00:00+00:00</td>\n",
       "      <td>130.280</td>\n",
       "      <td>131.450</td>\n",
       "      <td>129.90</td>\n",
       "      <td>131.23</td>\n",
       "      <td>50884452</td>\n",
       "      <td>120.056069</td>\n",
       "      <td>121.134251</td>\n",
       "      <td>119.705890</td>\n",
       "      <td>120.931516</td>\n",
       "      <td>50884452</td>\n",
       "      <td>0.0</td>\n",
       "      <td>1.0</td>\n",
       "    </tr>\n",
       "    <tr>\n",
       "      <th>3</th>\n",
       "      <td>3</td>\n",
       "      <td>AAPL</td>\n",
       "      <td>2015-06-01 00:00:00+00:00</td>\n",
       "      <td>130.535</td>\n",
       "      <td>131.390</td>\n",
       "      <td>130.05</td>\n",
       "      <td>131.20</td>\n",
       "      <td>32112797</td>\n",
       "      <td>120.291057</td>\n",
       "      <td>121.078960</td>\n",
       "      <td>119.844118</td>\n",
       "      <td>120.903870</td>\n",
       "      <td>32112797</td>\n",
       "      <td>0.0</td>\n",
       "      <td>1.0</td>\n",
       "    </tr>\n",
       "    <tr>\n",
       "      <th>4</th>\n",
       "      <td>4</td>\n",
       "      <td>AAPL</td>\n",
       "      <td>2015-06-02 00:00:00+00:00</td>\n",
       "      <td>129.960</td>\n",
       "      <td>130.655</td>\n",
       "      <td>129.32</td>\n",
       "      <td>129.86</td>\n",
       "      <td>33667627</td>\n",
       "      <td>119.761181</td>\n",
       "      <td>120.401640</td>\n",
       "      <td>119.171406</td>\n",
       "      <td>119.669029</td>\n",
       "      <td>33667627</td>\n",
       "      <td>0.0</td>\n",
       "      <td>1.0</td>\n",
       "    </tr>\n",
       "  </tbody>\n",
       "</table>\n",
       "</div>"
      ],
      "text/plain": [
       "   Unnamed: 0 symbol                       date    close     high     low  \\\n",
       "0           0   AAPL  2015-05-27 00:00:00+00:00  132.045  132.260  130.05   \n",
       "1           1   AAPL  2015-05-28 00:00:00+00:00  131.780  131.950  131.10   \n",
       "2           2   AAPL  2015-05-29 00:00:00+00:00  130.280  131.450  129.90   \n",
       "3           3   AAPL  2015-06-01 00:00:00+00:00  130.535  131.390  130.05   \n",
       "4           4   AAPL  2015-06-02 00:00:00+00:00  129.960  130.655  129.32   \n",
       "\n",
       "     open    volume    adjClose     adjHigh      adjLow     adjOpen  \\\n",
       "0  130.34  45833246  121.682558  121.880685  119.844118  120.111360   \n",
       "1  131.86  30733309  121.438354  121.595013  120.811718  121.512076   \n",
       "2  131.23  50884452  120.056069  121.134251  119.705890  120.931516   \n",
       "3  131.20  32112797  120.291057  121.078960  119.844118  120.903870   \n",
       "4  129.86  33667627  119.761181  120.401640  119.171406  119.669029   \n",
       "\n",
       "   adjVolume  divCash  splitFactor  \n",
       "0   45833246      0.0          1.0  \n",
       "1   30733309      0.0          1.0  \n",
       "2   50884452      0.0          1.0  \n",
       "3   32112797      0.0          1.0  \n",
       "4   33667627      0.0          1.0  "
      ]
     },
     "execution_count": 4,
     "metadata": {},
     "output_type": "execute_result"
    }
   ],
   "source": [
    "df.head()"
   ]
  },
  {
   "cell_type": "code",
   "execution_count": 5,
   "id": "ecological-benefit",
   "metadata": {},
   "outputs": [
    {
     "data": {
      "text/html": [
       "<div>\n",
       "<style scoped>\n",
       "    .dataframe tbody tr th:only-of-type {\n",
       "        vertical-align: middle;\n",
       "    }\n",
       "\n",
       "    .dataframe tbody tr th {\n",
       "        vertical-align: top;\n",
       "    }\n",
       "\n",
       "    .dataframe thead th {\n",
       "        text-align: right;\n",
       "    }\n",
       "</style>\n",
       "<table border=\"1\" class=\"dataframe\">\n",
       "  <thead>\n",
       "    <tr style=\"text-align: right;\">\n",
       "      <th></th>\n",
       "      <th>Unnamed: 0</th>\n",
       "      <th>symbol</th>\n",
       "      <th>date</th>\n",
       "      <th>close</th>\n",
       "      <th>high</th>\n",
       "      <th>low</th>\n",
       "      <th>open</th>\n",
       "      <th>volume</th>\n",
       "      <th>adjClose</th>\n",
       "      <th>adjHigh</th>\n",
       "      <th>adjLow</th>\n",
       "      <th>adjOpen</th>\n",
       "      <th>adjVolume</th>\n",
       "      <th>divCash</th>\n",
       "      <th>splitFactor</th>\n",
       "    </tr>\n",
       "  </thead>\n",
       "  <tbody>\n",
       "    <tr>\n",
       "      <th>1255</th>\n",
       "      <td>1255</td>\n",
       "      <td>AAPL</td>\n",
       "      <td>2020-05-20 00:00:00+00:00</td>\n",
       "      <td>319.23</td>\n",
       "      <td>319.52</td>\n",
       "      <td>316.20</td>\n",
       "      <td>316.68</td>\n",
       "      <td>27876215</td>\n",
       "      <td>319.23</td>\n",
       "      <td>319.52</td>\n",
       "      <td>316.20</td>\n",
       "      <td>316.68</td>\n",
       "      <td>27876215</td>\n",
       "      <td>0.0</td>\n",
       "      <td>1.0</td>\n",
       "    </tr>\n",
       "    <tr>\n",
       "      <th>1256</th>\n",
       "      <td>1256</td>\n",
       "      <td>AAPL</td>\n",
       "      <td>2020-05-21 00:00:00+00:00</td>\n",
       "      <td>316.85</td>\n",
       "      <td>320.89</td>\n",
       "      <td>315.87</td>\n",
       "      <td>318.66</td>\n",
       "      <td>25672211</td>\n",
       "      <td>316.85</td>\n",
       "      <td>320.89</td>\n",
       "      <td>315.87</td>\n",
       "      <td>318.66</td>\n",
       "      <td>25672211</td>\n",
       "      <td>0.0</td>\n",
       "      <td>1.0</td>\n",
       "    </tr>\n",
       "    <tr>\n",
       "      <th>1257</th>\n",
       "      <td>1257</td>\n",
       "      <td>AAPL</td>\n",
       "      <td>2020-05-22 00:00:00+00:00</td>\n",
       "      <td>318.89</td>\n",
       "      <td>319.23</td>\n",
       "      <td>315.35</td>\n",
       "      <td>315.77</td>\n",
       "      <td>20450754</td>\n",
       "      <td>318.89</td>\n",
       "      <td>319.23</td>\n",
       "      <td>315.35</td>\n",
       "      <td>315.77</td>\n",
       "      <td>20450754</td>\n",
       "      <td>0.0</td>\n",
       "      <td>1.0</td>\n",
       "    </tr>\n",
       "  </tbody>\n",
       "</table>\n",
       "</div>"
      ],
      "text/plain": [
       "      Unnamed: 0 symbol                       date   close    high     low  \\\n",
       "1255        1255   AAPL  2020-05-20 00:00:00+00:00  319.23  319.52  316.20   \n",
       "1256        1256   AAPL  2020-05-21 00:00:00+00:00  316.85  320.89  315.87   \n",
       "1257        1257   AAPL  2020-05-22 00:00:00+00:00  318.89  319.23  315.35   \n",
       "\n",
       "        open    volume  adjClose  adjHigh  adjLow  adjOpen  adjVolume  \\\n",
       "1255  316.68  27876215    319.23   319.52  316.20   316.68   27876215   \n",
       "1256  318.66  25672211    316.85   320.89  315.87   318.66   25672211   \n",
       "1257  315.77  20450754    318.89   319.23  315.35   315.77   20450754   \n",
       "\n",
       "      divCash  splitFactor  \n",
       "1255      0.0          1.0  \n",
       "1256      0.0          1.0  \n",
       "1257      0.0          1.0  "
      ]
     },
     "execution_count": 5,
     "metadata": {},
     "output_type": "execute_result"
    }
   ],
   "source": [
    "df.tail(3)"
   ]
  },
  {
   "cell_type": "code",
   "execution_count": 6,
   "id": "bacterial-gathering",
   "metadata": {},
   "outputs": [],
   "source": [
    "df1= df['close']"
   ]
  },
  {
   "cell_type": "code",
   "execution_count": 7,
   "id": "removed-killer",
   "metadata": {},
   "outputs": [
    {
     "data": {
      "text/plain": [
       "<AxesSubplot:>"
      ]
     },
     "execution_count": 7,
     "metadata": {},
     "output_type": "execute_result"
    },
    {
     "data": {
      "image/png": "[encoded data removed]",
      "text/plain": [
       "<Figure size 432x288 with 1 Axes>"
      ]
     },
     "metadata": {
      "needs_background": "light"
     },
     "output_type": "display_data"
    }
   ],
   "source": [
    "df1.plot()"
   ]
  },
  {
   "cell_type": "markdown",
   "id": "passing-adolescent",
   "metadata": {},
   "source": [
    "#### Scaling "
   ]
  },
  {
   "cell_type": "code",
   "execution_count": 8,
   "id": "crude-developer",
   "metadata": {},
   "outputs": [],
   "source": [
    "df1=np.array(df1).reshape(-1,1)"
   ]
  },
  {
   "cell_type": "code",
   "execution_count": 9,
   "id": "descending-anime",
   "metadata": {
    "scrolled": true
   },
   "outputs": [],
   "source": [
    "from sklearn.preprocessing import MinMaxScaler\n",
    "scaler = MinMaxScaler(feature_range=(0,1))\n",
    "df1= scaler.fit_transform(df1)"
   ]
  },
  {
   "cell_type": "code",
   "execution_count": 10,
   "id": "optical-operation",
   "metadata": {},
   "outputs": [
    {
     "name": "stdout",
     "output_type": "stream",
     "text": [
      "[[0.17607447]\n",
      " [0.17495567]\n",
      " [0.16862282]\n",
      " ...\n",
      " [0.96635143]\n",
      " [0.9563033 ]\n",
      " [0.96491598]]\n"
     ]
    }
   ],
   "source": [
    "print(df1)"
   ]
  },
  {
   "cell_type": "code",
   "execution_count": null,
   "id": "intelligent-floating",
   "metadata": {},
   "outputs": [],
   "source": []
  },
  {
   "cell_type": "markdown",
   "id": "mathematical-fundamentals",
   "metadata": {},
   "source": [
    "#### Spliting data into traning and testing set"
   ]
  },
  {
   "cell_type": "code",
   "execution_count": 11,
   "id": "diagnostic-swedish",
   "metadata": {},
   "outputs": [],
   "source": [
    "training_size = int(len(df1)*0.65)\n",
    "test_size= len(df1)- training_size\n",
    "train_data, test_data = df1[0:training_size,:], df1[training_size:len(df1),:1]"
   ]
  },
  {
   "cell_type": "code",
   "execution_count": 12,
   "id": "moving-danish",
   "metadata": {},
   "outputs": [
    {
     "data": {
      "text/plain": [
       "(817, 441)"
      ]
     },
     "execution_count": 12,
     "metadata": {},
     "output_type": "execute_result"
    }
   ],
   "source": [
    "training_size, test_size"
   ]
  },
  {
   "cell_type": "code",
   "execution_count": 13,
   "id": "exposed-clearing",
   "metadata": {},
   "outputs": [
    {
     "data": {
      "text/plain": [
       "(817, 1)"
      ]
     },
     "execution_count": 13,
     "metadata": {},
     "output_type": "execute_result"
    }
   ],
   "source": [
    "train_data.shape"
   ]
  },
  {
   "cell_type": "code",
   "execution_count": 14,
   "id": "smoking-projection",
   "metadata": {},
   "outputs": [
    {
     "data": {
      "text/plain": [
       "array([[0.17607447],\n",
       "       [0.17495567],\n",
       "       [0.16862282],\n",
       "       [0.1696994 ],\n",
       "       [0.16727181],\n",
       "       [0.16794731],\n",
       "       [0.16473866],\n",
       "       [0.16174111],\n",
       "       [0.1581525 ],\n",
       "       [0.15654817]])"
      ]
     },
     "execution_count": 14,
     "metadata": {},
     "output_type": "execute_result"
    }
   ],
   "source": [
    "train_data[:10]"
   ]
  },
  {
   "cell_type": "markdown",
   "id": "distant-financing",
   "metadata": {},
   "source": [
    "#### convert an array of values into a dataset matrix"
   ]
  },
  {
   "cell_type": "code",
   "execution_count": 15,
   "id": "discrete-concert",
   "metadata": {},
   "outputs": [],
   "source": [
    "import numpy"
   ]
  },
  {
   "cell_type": "code",
   "execution_count": 16,
   "id": "canadian-encounter",
   "metadata": {},
   "outputs": [],
   "source": [
    "def create_dataset(dataset, time_step=1):\n",
    "    dataX, dataY =[], []\n",
    "    for i in range(len(dataset)- time_step-1):\n",
    "        a= dataset[i:(i+time_step), 0]\n",
    "        dataX.append(a)\n",
    "        dataY.append(dataset[i + time_step, 0])\n",
    "    return numpy.array(dataX), numpy.array(dataY)"
   ]
  },
  {
   "cell_type": "code",
   "execution_count": 17,
   "id": "genuine-combat",
   "metadata": {},
   "outputs": [],
   "source": [
    "#reshape into X=t, t+1, t+2, t+3 and y= t+4\n",
    "time_step =100\n",
    "X_train, y_train= create_dataset(train_data, time_step)\n",
    "X_test, ytest = create_dataset(test_data, time_step)"
   ]
  },
  {
   "cell_type": "code",
   "execution_count": 18,
   "id": "apart-baltimore",
   "metadata": {},
   "outputs": [
    {
     "name": "stdout",
     "output_type": "stream",
     "text": [
      "(716, 100)\n",
      "(716,)\n"
     ]
    },
    {
     "data": {
      "text/plain": [
       "(None, None)"
      ]
     },
     "execution_count": 18,
     "metadata": {},
     "output_type": "execute_result"
    }
   ],
   "source": [
    "print(X_train.shape), print(y_train.shape)"
   ]
  },
  {
   "cell_type": "code",
   "execution_count": 19,
   "id": "laden-tackle",
   "metadata": {},
   "outputs": [
    {
     "name": "stdout",
     "output_type": "stream",
     "text": [
      "(340, 100)\n",
      "(340,)\n"
     ]
    },
    {
     "data": {
      "text/plain": [
       "(None, None)"
      ]
     },
     "execution_count": 19,
     "metadata": {},
     "output_type": "execute_result"
    }
   ],
   "source": [
    "print(X_test.shape), print(ytest.shape)"
   ]
  },
  {
   "cell_type": "code",
   "execution_count": null,
   "id": "laden-symbol",
   "metadata": {},
   "outputs": [],
   "source": []
  },
  {
   "cell_type": "markdown",
   "id": "original-duration",
   "metadata": {},
   "source": [
    "Reshaping input to be [sample, time_steps, features] which is required for LSTM"
   ]
  },
  {
   "cell_type": "code",
   "execution_count": 20,
   "id": "active-fancy",
   "metadata": {},
   "outputs": [],
   "source": [
    "X_train= X_train.reshape(X_train.shape[0],X_train.shape[1], 1)\n",
    "X_test = X_test.reshape(X_test.shape[0], X_test.shape[1], 1)"
   ]
  },
  {
   "cell_type": "code",
   "execution_count": null,
   "id": "hungry-canal",
   "metadata": {},
   "outputs": [],
   "source": []
  },
  {
   "cell_type": "markdown",
   "id": "bored-array",
   "metadata": {},
   "source": [
    "### Building LSTM Model"
   ]
  },
  {
   "cell_type": "code",
   "execution_count": 21,
   "id": "constitutional-russia",
   "metadata": {},
   "outputs": [],
   "source": [
    "# Create the stacked LSTM model\n",
    "from tensorflow.keras.models import Sequential\n",
    "# from tensorflow.keras.layers import Sequential\n",
    "from tensorflow.keras.layers import Dense\n",
    "from tensorflow.keras.layers import LSTM"
   ]
  },
  {
   "cell_type": "code",
   "execution_count": 22,
   "id": "framed-locator",
   "metadata": {},
   "outputs": [],
   "source": [
    "model = Sequential()\n",
    "model.add(LSTM(50, return_sequences= True, input_shape= (100,1)))\n",
    "model.add(LSTM(50, return_sequences=True))\n",
    "model.add(LSTM(50))\n",
    "model.add(Dense(1))\n",
    "model.compile(loss = 'mean_squared_error', optimizer = 'adam')"
   ]
  },
  {
   "cell_type": "code",
   "execution_count": 23,
   "id": "figured-photographer",
   "metadata": {},
   "outputs": [
    {
     "name": "stdout",
     "output_type": "stream",
     "text": [
      "Model: \"sequential\"\n",
      "_________________________________________________________________\n",
      "Layer (type)                 Output Shape              Param #   \n",
      "=================================================================\n",
      "lstm (LSTM)                  (None, 100, 50)           10400     \n",
      "_________________________________________________________________\n",
      "lstm_1 (LSTM)                (None, 100, 50)           20200     \n",
      "_________________________________________________________________\n",
      "lstm_2 (LSTM)                (None, 50)                20200     \n",
      "_________________________________________________________________\n",
      "dense (Dense)                (None, 1)                 51        \n",
      "=================================================================\n",
      "Total params: 50,851\n",
      "Trainable params: 50,851\n",
      "Non-trainable params: 0\n",
      "_________________________________________________________________\n"
     ]
    }
   ],
   "source": [
    "model.summary()"
   ]
  },
  {
   "cell_type": "markdown",
   "id": "nearby-breakfast",
   "metadata": {},
   "source": [
    "model fitting"
   ]
  },
  {
   "cell_type": "code",
   "execution_count": 24,
   "id": "colored-movement",
   "metadata": {},
   "outputs": [
    {
     "name": "stdout",
     "output_type": "stream",
     "text": [
      "Epoch 1/50\n",
      "12/12 [==============================] - 18s 691ms/step - loss: 0.0278 - val_loss: 0.0771\n",
      "Epoch 2/50\n",
      "12/12 [==============================] - 3s 263ms/step - loss: 0.0054 - val_loss: 0.0048\n",
      "Epoch 3/50\n",
      "12/12 [==============================] - 3s 260ms/step - loss: 0.0019 - val_loss: 0.0041\n",
      "Epoch 4/50\n",
      "12/12 [==============================] - 3s 276ms/step - loss: 9.7211e-04 - val_loss: 0.0044\n",
      "Epoch 5/50\n",
      "12/12 [==============================] - 3s 269ms/step - loss: 6.8641e-04 - val_loss: 0.0058\n",
      "Epoch 6/50\n",
      "12/12 [==============================] - 3s 268ms/step - loss: 6.2737e-04 - val_loss: 0.0048\n",
      "Epoch 7/50\n",
      "12/12 [==============================] - 3s 265ms/step - loss: 6.7511e-04 - val_loss: 0.0044\n",
      "Epoch 8/50\n",
      "12/12 [==============================] - 3s 267ms/step - loss: 6.4007e-04 - val_loss: 0.0049\n",
      "Epoch 9/50\n",
      "12/12 [==============================] - 3s 270ms/step - loss: 6.5806e-04 - val_loss: 0.0048\n",
      "Epoch 10/50\n",
      "12/12 [==============================] - 3s 272ms/step - loss: 6.3231e-04 - val_loss: 0.0038\n",
      "Epoch 11/50\n",
      "12/12 [==============================] - 3s 271ms/step - loss: 5.9627e-04 - val_loss: 0.0040\n",
      "Epoch 12/50\n",
      "12/12 [==============================] - 3s 264ms/step - loss: 5.6901e-04 - val_loss: 0.0038\n",
      "Epoch 13/50\n",
      "12/12 [==============================] - 3s 269ms/step - loss: 5.4510e-04 - val_loss: 0.0034\n",
      "Epoch 14/50\n",
      "12/12 [==============================] - 3s 268ms/step - loss: 6.4924e-04 - val_loss: 0.0034\n",
      "Epoch 15/50\n",
      "12/12 [==============================] - 3s 257ms/step - loss: 5.5508e-04 - val_loss: 0.0043\n",
      "Epoch 16/50\n",
      "12/12 [==============================] - 3s 265ms/step - loss: 5.7957e-04 - val_loss: 0.0036\n",
      "Epoch 17/50\n",
      "12/12 [==============================] - 3s 264ms/step - loss: 5.3801e-04 - val_loss: 0.0034\n",
      "Epoch 18/50\n",
      "12/12 [==============================] - 3s 262ms/step - loss: 5.3694e-04 - val_loss: 0.0032\n",
      "Epoch 19/50\n",
      "12/12 [==============================] - 3s 266ms/step - loss: 5.5290e-04 - val_loss: 0.0030\n",
      "Epoch 20/50\n",
      "12/12 [==============================] - 3s 262ms/step - loss: 5.0501e-04 - val_loss: 0.0030\n",
      "Epoch 21/50\n",
      "12/12 [==============================] - 3s 264ms/step - loss: 5.5869e-04 - val_loss: 0.0036\n",
      "Epoch 22/50\n",
      "12/12 [==============================] - 3s 276ms/step - loss: 5.3878e-04 - val_loss: 0.0030\n",
      "Epoch 23/50\n",
      "12/12 [==============================] - 3s 265ms/step - loss: 4.9208e-04 - val_loss: 0.0028\n",
      "Epoch 24/50\n",
      "12/12 [==============================] - 3s 263ms/step - loss: 5.0139e-04 - val_loss: 0.0030\n",
      "Epoch 25/50\n",
      "12/12 [==============================] - 3s 269ms/step - loss: 5.8857e-04 - val_loss: 0.0037\n",
      "Epoch 26/50\n",
      "12/12 [==============================] - 3s 270ms/step - loss: 6.1857e-04 - val_loss: 0.0029\n",
      "Epoch 27/50\n",
      "12/12 [==============================] - 3s 269ms/step - loss: 4.8240e-04 - val_loss: 0.0025\n",
      "Epoch 28/50\n",
      "12/12 [==============================] - 3s 256ms/step - loss: 4.8582e-04 - val_loss: 0.0023\n",
      "Epoch 29/50\n",
      "12/12 [==============================] - 3s 280ms/step - loss: 4.4114e-04 - val_loss: 0.0022\n",
      "Epoch 30/50\n",
      "12/12 [==============================] - 3s 275ms/step - loss: 4.3827e-04 - val_loss: 0.0032\n",
      "Epoch 31/50\n",
      "12/12 [==============================] - 3s 279ms/step - loss: 6.0301e-04 - val_loss: 0.0024\n",
      "Epoch 32/50\n",
      "12/12 [==============================] - 3s 271ms/step - loss: 5.8080e-04 - val_loss: 0.0020\n",
      "Epoch 33/50\n",
      "12/12 [==============================] - 3s 265ms/step - loss: 5.1442e-04 - val_loss: 0.0020\n",
      "Epoch 34/50\n",
      "12/12 [==============================] - 3s 270ms/step - loss: 3.8316e-04 - val_loss: 0.0019\n",
      "Epoch 35/50\n",
      "12/12 [==============================] - 3s 259ms/step - loss: 3.8043e-04 - val_loss: 0.0018\n",
      "Epoch 36/50\n",
      "12/12 [==============================] - 3s 256ms/step - loss: 4.3954e-04 - val_loss: 0.0020\n",
      "Epoch 37/50\n",
      "12/12 [==============================] - 3s 255ms/step - loss: 4.3874e-04 - val_loss: 0.0020\n",
      "Epoch 38/50\n",
      "12/12 [==============================] - 3s 257ms/step - loss: 3.8539e-04 - val_loss: 0.0016\n",
      "Epoch 39/50\n",
      "12/12 [==============================] - 3s 255ms/step - loss: 4.0496e-04 - val_loss: 0.0018\n",
      "Epoch 40/50\n",
      "12/12 [==============================] - 3s 254ms/step - loss: 4.0105e-04 - val_loss: 0.0023\n",
      "Epoch 41/50\n",
      "12/12 [==============================] - 3s 258ms/step - loss: 3.4602e-04 - val_loss: 0.0023\n",
      "Epoch 42/50\n",
      "12/12 [==============================] - 3s 255ms/step - loss: 3.4151e-04 - val_loss: 0.0015\n",
      "Epoch 43/50\n",
      "12/12 [==============================] - 3s 255ms/step - loss: 3.7490e-04 - val_loss: 0.0016\n",
      "Epoch 44/50\n",
      "12/12 [==============================] - 3s 257ms/step - loss: 3.5433e-04 - val_loss: 0.0014\n",
      "Epoch 45/50\n",
      "12/12 [==============================] - 3s 257ms/step - loss: 3.4254e-04 - val_loss: 0.0020\n",
      "Epoch 46/50\n",
      "12/12 [==============================] - 3s 256ms/step - loss: 3.4870e-04 - val_loss: 0.0014\n",
      "Epoch 47/50\n",
      "12/12 [==============================] - 3s 258ms/step - loss: 3.5242e-04 - val_loss: 0.0016\n",
      "Epoch 48/50\n",
      "12/12 [==============================] - 3s 255ms/step - loss: 3.3027e-04 - val_loss: 0.0024\n",
      "Epoch 49/50\n",
      "12/12 [==============================] - 3s 255ms/step - loss: 3.8217e-04 - val_loss: 0.0014\n",
      "Epoch 50/50\n",
      "12/12 [==============================] - 3s 258ms/step - loss: 3.6161e-04 - val_loss: 0.0028\n"
     ]
    },
    {
     "data": {
      "text/plain": [
       "<tensorflow.python.keras.callbacks.History at 0x2aaf1e8ea60>"
      ]
     },
     "execution_count": 24,
     "metadata": {},
     "output_type": "execute_result"
    }
   ],
   "source": [
    "model.fit(X_train,y_train,validation_data=(X_test,ytest),epochs=50,batch_size=64,verbose=1)"
   ]
  },
  {
   "cell_type": "code",
   "execution_count": 25,
   "id": "moved-bedroom",
   "metadata": {},
   "outputs": [],
   "source": [
    "import tensorflow as tf"
   ]
  },
  {
   "cell_type": "code",
   "execution_count": 26,
   "id": "elect-sending",
   "metadata": {},
   "outputs": [
    {
     "data": {
      "text/plain": [
       "'2.4.1'"
      ]
     },
     "execution_count": 26,
     "metadata": {},
     "output_type": "execute_result"
    }
   ],
   "source": [
    "tf.__version__"
   ]
  },
  {
   "cell_type": "markdown",
   "id": "loaded-november",
   "metadata": {},
   "source": [
    "#### Predictions and Model evaluation"
   ]
  },
  {
   "cell_type": "code",
   "execution_count": 27,
   "id": "fluid-burden",
   "metadata": {},
   "outputs": [],
   "source": [
    "#lets do the predictions and check performance metrics\n",
    "train_predict = model.predict(X_train)\n",
    "test_predict = model.predict(X_test)"
   ]
  },
  {
   "cell_type": "code",
   "execution_count": 28,
   "id": "labeled-certificate",
   "metadata": {},
   "outputs": [
    {
     "data": {
      "text/plain": [
       "array([[0.08289328],\n",
       "       [0.08355097],\n",
       "       [0.08427095],\n",
       "       [0.08530283],\n",
       "       [0.08666461]], dtype=float32)"
      ]
     },
     "execution_count": 28,
     "metadata": {},
     "output_type": "execute_result"
    }
   ],
   "source": [
    "train_predict[:5]"
   ]
  },
  {
   "cell_type": "code",
   "execution_count": 30,
   "id": "numeric-wallpaper",
   "metadata": {},
   "outputs": [
    {
     "data": {
      "text/plain": [
       "array([0.0873934 , 0.09030651, 0.09891919, 0.09887697, 0.10622309])"
      ]
     },
     "execution_count": 30,
     "metadata": {},
     "output_type": "execute_result"
    }
   ],
   "source": [
    "y_train[:5]"
   ]
  },
  {
   "cell_type": "markdown",
   "id": "another-forwarding",
   "metadata": {},
   "source": [
    "Transformback to original form"
   ]
  },
  {
   "cell_type": "code",
   "execution_count": 31,
   "id": "becoming-modern",
   "metadata": {},
   "outputs": [],
   "source": [
    "train_predict = scaler.inverse_transform(train_predict)\n",
    "test_predict = scaler.inverse_transform(test_predict)"
   ]
  },
  {
   "cell_type": "markdown",
   "id": "architectural-freeware",
   "metadata": {},
   "source": [
    "Calculate RMSE performance metrics"
   ]
  },
  {
   "cell_type": "code",
   "execution_count": 54,
   "id": "forward-philosophy",
   "metadata": {},
   "outputs": [
    {
     "data": {
      "text/plain": [
       "139.93639966696563"
      ]
     },
     "execution_count": 54,
     "metadata": {},
     "output_type": "execute_result"
    }
   ],
   "source": [
    "import math\n",
    "from sklearn.metrics import mean_squared_error\n",
    "math.sqrt(mean_squared_error(y_train, train_predict))"
   ]
  },
  {
   "cell_type": "code",
   "execution_count": 43,
   "id": "copyrighted-landing",
   "metadata": {},
   "outputs": [],
   "source": [
    "pred_df = pd.DataFrame(test_predict)"
   ]
  },
  {
   "cell_type": "code",
   "execution_count": null,
   "id": "talented-delight",
   "metadata": {},
   "outputs": [],
   "source": []
  },
  {
   "cell_type": "code",
   "execution_count": 45,
   "id": "western-faith",
   "metadata": {},
   "outputs": [],
   "source": [
    "y_test= scaler.inverse_transform(ytest.reshape(-1,1))"
   ]
  },
  {
   "cell_type": "code",
   "execution_count": null,
   "id": "steady-closer",
   "metadata": {},
   "outputs": [],
   "source": []
  },
  {
   "cell_type": "code",
   "execution_count": 47,
   "id": "pressing-blanket",
   "metadata": {},
   "outputs": [],
   "source": [
    "pred_df['TrueValues']= y_test"
   ]
  },
  {
   "cell_type": "code",
   "execution_count": 49,
   "id": "nominated-grill",
   "metadata": {},
   "outputs": [],
   "source": [
    "pred_df_new = pred_df.rename(columns={ 0: 'Predictions'})"
   ]
  },
  {
   "cell_type": "code",
   "execution_count": 50,
   "id": "signed-shell",
   "metadata": {},
   "outputs": [],
   "source": [
    "import seaborn as sns"
   ]
  },
  {
   "cell_type": "code",
   "execution_count": 53,
   "id": "aquatic-fraction",
   "metadata": {},
   "outputs": [
    {
     "data": {
      "text/plain": [
       "Text(0.5, 1.0, 'Predictions VS True values on Testing Set')"
      ]
     },
     "execution_count": 53,
     "metadata": {},
     "output_type": "execute_result"
    },
    {
     "data": {
      "image/png": "[encoded data removed]",
      "text/plain": [
       "<Figure size 720x432 with 1 Axes>"
      ]
     },
     "metadata": {
      "needs_background": "light"
     },
     "output_type": "display_data"
    }
   ],
   "source": [
    "plt.figure(figsize=(10,6))\n",
    "sns.lineplot(data= pred_df_new)\n",
    "plt.title(\"Predictions VS True values on Testing Set\")"
   ]
  },
  {
   "cell_type": "code",
   "execution_count": 56,
   "id": "finished-ukraine",
   "metadata": {},
   "outputs": [
    {
     "data": {
      "image/png": "[encoded data removed]",
      "text/plain": [
       "<Figure size 432x288 with 1 Axes>"
      ]
     },
     "metadata": {
      "needs_background": "light"
     },
     "output_type": "display_data"
    }
   ],
   "source": [
    "### Plotting \n",
    "# shift train predictions for plotting\n",
    "look_back=100\n",
    "trainPredictPlot = numpy.empty_like(df1)\n",
    "trainPredictPlot[:, :] = np.nan\n",
    "trainPredictPlot[look_back:len(train_predict)+look_back, :] = train_predict\n",
    "# shift test predictions for plotting\n",
    "testPredictPlot = numpy.empty_like(df1)\n",
    "testPredictPlot[:, :] = numpy.nan\n",
    "testPredictPlot[len(train_predict)+(look_back*2)+1:len(df1)-1, :] = test_predict\n",
    "# plot baseline and predictions\n",
    "plt.plot(scaler.inverse_transform(df1))\n",
    "plt.plot(trainPredictPlot)\n",
    "plt.plot(testPredictPlot)\n",
    "plt.show()"
   ]
  },
  {
   "cell_type": "code",
   "execution_count": null,
   "id": "closing-animal",
   "metadata": {},
   "outputs": [],
   "source": []
  },
  {
   "cell_type": "markdown",
   "id": "comfortable-binary",
   "metadata": {},
   "source": [
    "we are using 100 inputs for predicting 1 day output"
   ]
  },
  {
   "cell_type": "code",
   "execution_count": 57,
   "id": "blessed-representative",
   "metadata": {},
   "outputs": [],
   "source": [
    "x_input = test_data[341:].reshape(1,-1)"
   ]
  },
  {
   "cell_type": "code",
   "execution_count": 58,
   "id": "absent-satisfaction",
   "metadata": {},
   "outputs": [
    {
     "data": {
      "text/plain": [
       "(1, 100)"
      ]
     },
     "execution_count": 58,
     "metadata": {},
     "output_type": "execute_result"
    }
   ],
   "source": [
    "x_input.shape"
   ]
  },
  {
   "cell_type": "code",
   "execution_count": 75,
   "id": "residential-implement",
   "metadata": {},
   "outputs": [],
   "source": [
    "temp_input = list(x_input)\n",
    "temp_input = temp_input[0].tolist()"
   ]
  },
  {
   "cell_type": "code",
   "execution_count": 76,
   "id": "prescribed-parish",
   "metadata": {
    "scrolled": true
   },
   "outputs": [
    {
     "data": {
      "text/plain": [
       "[[0.7097019336316812],\n",
       " [0.664527569028118],\n",
       " [0.6943764248923416],\n",
       " [0.692181035210673],\n",
       " [0.6356919699400492],\n",
       " [0.6526640209406402],\n",
       " [0.637802921557038],\n",
       " [0.7267162036646122],\n",
       " [0.7138816178333194],\n",
       " [0.7419150553069325]]"
      ]
     },
     "execution_count": 76,
     "metadata": {},
     "output_type": "execute_result"
    }
   ],
   "source": [
    "temp_input[0:10]"
   ]
  },
  {
   "cell_type": "code",
   "execution_count": null,
   "id": "chronic-village",
   "metadata": {},
   "outputs": [],
   "source": []
  },
  {
   "cell_type": "code",
   "execution_count": null,
   "id": "simple-somalia",
   "metadata": {},
   "outputs": [],
   "source": []
  },
  {
   "cell_type": "markdown",
   "id": "portable-robert",
   "metadata": {},
   "source": [
    "### Prediction for next 30 days"
   ]
  },
  {
   "cell_type": "markdown",
   "id": "empty-bishop",
   "metadata": {},
   "source": [
    "Now creating a function which return 30 Days Stock Prediction"
   ]
  },
  {
   "cell_type": "code",
   "execution_count": 66,
   "id": "early-plenty",
   "metadata": {},
   "outputs": [
    {
     "name": "stdout",
     "output_type": "stream",
     "text": [
      "0 day input [0.99016297 0.99050072 0.96538039 0.98488559 0.97086887 0.94026007\n",
      " 0.87748037 0.83483915 0.85413324 0.77336823 0.77269273 0.88014017\n",
      " 0.84007431 0.89673225 0.85527316 0.83884995 0.74233725 0.82327113\n",
      " 0.78143207 0.6665963  0.7921557  0.64118044 0.68614371 0.66001013\n",
      " 0.65203074 0.58642236 0.56586169 0.66089673 0.65515494 0.70970193\n",
      " 0.66452757 0.69437642 0.69218104 0.63569197 0.65266402 0.63780292\n",
      " 0.7267162  0.71388162 0.74191506 0.75002111 0.77222832 0.83049059\n",
      " 0.8194292  0.8289707  0.8125475  0.78776492 0.75162543 0.78426074\n",
      " 0.77974331 0.81326522 0.8141096  0.79473106 0.83336148 0.85898843\n",
      " 0.83901883 0.85628641 0.87486279 0.88782403 0.90095415 0.92793211\n",
      " 0.948535   0.93333615 0.91746179 0.92544119 0.91771511 0.9483239\n",
      " 0.94064004 0.96635143 0.9563033  0.96491598 0.87687105 0.87453365\n",
      " 0.8672961  0.85617888 0.84246325 0.82729316 0.81154704 0.79584169\n",
      " 0.78058398 0.76603091 0.75233936 0.73960197 0.72786766 0.71715653\n",
      " 0.70746624 0.6987769  0.69105357 0.68424821 0.67830211 0.67314804\n",
      " 0.6687116  0.66491514 0.66167694 0.65891576 0.65655029 0.65450191\n",
      " 0.65269625 0.65106243 0.6495353  0.64805633]\n",
      "0 day output [[0.6465734]]\n",
      "1 day input [0.99050072 0.96538039 0.98488559 0.97086887 0.94026007 0.87748037\n",
      " 0.83483915 0.85413324 0.77336823 0.77269273 0.88014017 0.84007431\n",
      " 0.89673225 0.85527316 0.83884995 0.74233725 0.82327113 0.78143207\n",
      " 0.6665963  0.7921557  0.64118044 0.68614371 0.66001013 0.65203074\n",
      " 0.58642236 0.56586169 0.66089673 0.65515494 0.70970193 0.66452757\n",
      " 0.69437642 0.69218104 0.63569197 0.65266402 0.63780292 0.7267162\n",
      " 0.71388162 0.74191506 0.75002111 0.77222832 0.83049059 0.8194292\n",
      " 0.8289707  0.8125475  0.78776492 0.75162543 0.78426074 0.77974331\n",
      " 0.81326522 0.8141096  0.79473106 0.83336148 0.85898843 0.83901883\n",
      " 0.85628641 0.87486279 0.88782403 0.90095415 0.92793211 0.948535\n",
      " 0.93333615 0.91746179 0.92544119 0.91771511 0.9483239  0.94064004\n",
      " 0.96635143 0.9563033  0.96491598 0.87687105 0.87453365 0.8672961\n",
      " 0.85617888 0.84246325 0.82729316 0.81154704 0.79584169 0.78058398\n",
      " 0.76603091 0.75233936 0.73960197 0.72786766 0.71715653 0.70746624\n",
      " 0.6987769  0.69105357 0.68424821 0.67830211 0.67314804 0.6687116\n",
      " 0.66491514 0.66167694 0.65891576 0.65655029 0.65450191 0.65269625\n",
      " 0.65106243 0.6495353  0.64805633 0.64657342]\n",
      "1 day output [[0.64504087]]\n",
      "2 day input [0.96538039 0.98488559 0.97086887 0.94026007 0.87748037 0.83483915\n",
      " 0.85413324 0.77336823 0.77269273 0.88014017 0.84007431 0.89673225\n",
      " 0.85527316 0.83884995 0.74233725 0.82327113 0.78143207 0.6665963\n",
      " 0.7921557  0.64118044 0.68614371 0.66001013 0.65203074 0.58642236\n",
      " 0.56586169 0.66089673 0.65515494 0.70970193 0.66452757 0.69437642\n",
      " 0.69218104 0.63569197 0.65266402 0.63780292 0.7267162  0.71388162\n",
      " 0.74191506 0.75002111 0.77222832 0.83049059 0.8194292  0.8289707\n",
      " 0.8125475  0.78776492 0.75162543 0.78426074 0.77974331 0.81326522\n",
      " 0.8141096  0.79473106 0.83336148 0.85898843 0.83901883 0.85628641\n",
      " 0.87486279 0.88782403 0.90095415 0.92793211 0.948535   0.93333615\n",
      " 0.91746179 0.92544119 0.91771511 0.9483239  0.94064004 0.96635143\n",
      " 0.9563033  0.96491598 0.87687105 0.87453365 0.8672961  0.85617888\n",
      " 0.84246325 0.82729316 0.81154704 0.79584169 0.78058398 0.76603091\n",
      " 0.75233936 0.73960197 0.72786766 0.71715653 0.70746624 0.6987769\n",
      " 0.69105357 0.68424821 0.67830211 0.67314804 0.6687116  0.66491514\n",
      " 0.66167694 0.65891576 0.65655029 0.65450191 0.65269625 0.65106243\n",
      " 0.6495353  0.64805633 0.64657342 0.64504087]\n",
      "2 day output [[0.64342153]]\n",
      "3 day input [0.98488559 0.97086887 0.94026007 0.87748037 0.83483915 0.85413324\n",
      " 0.77336823 0.77269273 0.88014017 0.84007431 0.89673225 0.85527316\n",
      " 0.83884995 0.74233725 0.82327113 0.78143207 0.6665963  0.7921557\n",
      " 0.64118044 0.68614371 0.66001013 0.65203074 0.58642236 0.56586169\n",
      " 0.66089673 0.65515494 0.70970193 0.66452757 0.69437642 0.69218104\n",
      " 0.63569197 0.65266402 0.63780292 0.7267162  0.71388162 0.74191506\n",
      " 0.75002111 0.77222832 0.83049059 0.8194292  0.8289707  0.8125475\n",
      " 0.78776492 0.75162543 0.78426074 0.77974331 0.81326522 0.8141096\n",
      " 0.79473106 0.83336148 0.85898843 0.83901883 0.85628641 0.87486279\n",
      " 0.88782403 0.90095415 0.92793211 0.948535   0.93333615 0.91746179\n",
      " 0.92544119 0.91771511 0.9483239  0.94064004 0.96635143 0.9563033\n",
      " 0.96491598 0.87687105 0.87453365 0.8672961  0.85617888 0.84246325\n",
      " 0.82729316 0.81154704 0.79584169 0.78058398 0.76603091 0.75233936\n",
      " 0.73960197 0.72786766 0.71715653 0.70746624 0.6987769  0.69105357\n",
      " 0.68424821 0.67830211 0.67314804 0.6687116  0.66491514 0.66167694\n",
      " 0.65891576 0.65655029 0.65450191 0.65269625 0.65106243 0.6495353\n",
      " 0.64805633 0.64657342 0.64504087 0.64342153]\n",
      "3 day output [[0.64168346]]\n",
      "4 day input [0.97086887 0.94026007 0.87748037 0.83483915 0.85413324 0.77336823\n",
      " 0.77269273 0.88014017 0.84007431 0.89673225 0.85527316 0.83884995\n",
      " 0.74233725 0.82327113 0.78143207 0.6665963  0.7921557  0.64118044\n",
      " 0.68614371 0.66001013 0.65203074 0.58642236 0.56586169 0.66089673\n",
      " 0.65515494 0.70970193 0.66452757 0.69437642 0.69218104 0.63569197\n",
      " 0.65266402 0.63780292 0.7267162  0.71388162 0.74191506 0.75002111\n",
      " 0.77222832 0.83049059 0.8194292  0.8289707  0.8125475  0.78776492\n",
      " 0.75162543 0.78426074 0.77974331 0.81326522 0.8141096  0.79473106\n",
      " 0.83336148 0.85898843 0.83901883 0.85628641 0.87486279 0.88782403\n",
      " 0.90095415 0.92793211 0.948535   0.93333615 0.91746179 0.92544119\n",
      " 0.91771511 0.9483239  0.94064004 0.96635143 0.9563033  0.96491598\n",
      " 0.87687105 0.87453365 0.8672961  0.85617888 0.84246325 0.82729316\n",
      " 0.81154704 0.79584169 0.78058398 0.76603091 0.75233936 0.73960197\n",
      " 0.72786766 0.71715653 0.70746624 0.6987769  0.69105357 0.68424821\n",
      " 0.67830211 0.67314804 0.6687116  0.66491514 0.66167694 0.65891576\n",
      " 0.65655029 0.65450191 0.65269625 0.65106243 0.6495353  0.64805633\n",
      " 0.64657342 0.64504087 0.64342153 0.64168346]\n",
      "4 day output [[0.63980323]]\n",
      "5 day input [0.94026007 0.87748037 0.83483915 0.85413324 0.77336823 0.77269273\n",
      " 0.88014017 0.84007431 0.89673225 0.85527316 0.83884995 0.74233725\n",
      " 0.82327113 0.78143207 0.6665963  0.7921557  0.64118044 0.68614371\n",
      " 0.66001013 0.65203074 0.58642236 0.56586169 0.66089673 0.65515494\n",
      " 0.70970193 0.66452757 0.69437642 0.69218104 0.63569197 0.65266402\n",
      " 0.63780292 0.7267162  0.71388162 0.74191506 0.75002111 0.77222832\n",
      " 0.83049059 0.8194292  0.8289707  0.8125475  0.78776492 0.75162543\n",
      " 0.78426074 0.77974331 0.81326522 0.8141096  0.79473106 0.83336148\n",
      " 0.85898843 0.83901883 0.85628641 0.87486279 0.88782403 0.90095415\n",
      " 0.92793211 0.948535   0.93333615 0.91746179 0.92544119 0.91771511\n",
      " 0.9483239  0.94064004 0.96635143 0.9563033  0.96491598 0.87687105\n",
      " 0.87453365 0.8672961  0.85617888 0.84246325 0.82729316 0.81154704\n",
      " 0.79584169 0.78058398 0.76603091 0.75233936 0.73960197 0.72786766\n",
      " 0.71715653 0.70746624 0.6987769  0.69105357 0.68424821 0.67830211\n",
      " 0.67314804 0.6687116  0.66491514 0.66167694 0.65891576 0.65655029\n",
      " 0.65450191 0.65269625 0.65106243 0.6495353  0.64805633 0.64657342\n",
      " 0.64504087 0.64342153 0.64168346 0.63980323]\n",
      "5 day output [[0.6377641]]\n",
      "6 day input [0.87748037 0.83483915 0.85413324 0.77336823 0.77269273 0.88014017\n",
      " 0.84007431 0.89673225 0.85527316 0.83884995 0.74233725 0.82327113\n",
      " 0.78143207 0.6665963  0.7921557  0.64118044 0.68614371 0.66001013\n",
      " 0.65203074 0.58642236 0.56586169 0.66089673 0.65515494 0.70970193\n",
      " 0.66452757 0.69437642 0.69218104 0.63569197 0.65266402 0.63780292\n",
      " 0.7267162  0.71388162 0.74191506 0.75002111 0.77222832 0.83049059\n",
      " 0.8194292  0.8289707  0.8125475  0.78776492 0.75162543 0.78426074\n",
      " 0.77974331 0.81326522 0.8141096  0.79473106 0.83336148 0.85898843\n",
      " 0.83901883 0.85628641 0.87486279 0.88782403 0.90095415 0.92793211\n",
      " 0.948535   0.93333615 0.91746179 0.92544119 0.91771511 0.9483239\n",
      " 0.94064004 0.96635143 0.9563033  0.96491598 0.87687105 0.87453365\n",
      " 0.8672961  0.85617888 0.84246325 0.82729316 0.81154704 0.79584169\n",
      " 0.78058398 0.76603091 0.75233936 0.73960197 0.72786766 0.71715653\n",
      " 0.70746624 0.6987769  0.69105357 0.68424821 0.67830211 0.67314804\n",
      " 0.6687116  0.66491514 0.66167694 0.65891576 0.65655029 0.65450191\n",
      " 0.65269625 0.65106243 0.6495353  0.64805633 0.64657342 0.64504087\n",
      " 0.64342153 0.64168346 0.63980323 0.6377641 ]\n",
      "6 day output [[0.63555425]]\n",
      "7 day input [0.83483915 0.85413324 0.77336823 0.77269273 0.88014017 0.84007431\n",
      " 0.89673225 0.85527316 0.83884995 0.74233725 0.82327113 0.78143207\n",
      " 0.6665963  0.7921557  0.64118044 0.68614371 0.66001013 0.65203074\n",
      " 0.58642236 0.56586169 0.66089673 0.65515494 0.70970193 0.66452757\n",
      " 0.69437642 0.69218104 0.63569197 0.65266402 0.63780292 0.7267162\n",
      " 0.71388162 0.74191506 0.75002111 0.77222832 0.83049059 0.8194292\n",
      " 0.8289707  0.8125475  0.78776492 0.75162543 0.78426074 0.77974331\n",
      " 0.81326522 0.8141096  0.79473106 0.83336148 0.85898843 0.83901883\n",
      " 0.85628641 0.87486279 0.88782403 0.90095415 0.92793211 0.948535\n",
      " 0.93333615 0.91746179 0.92544119 0.91771511 0.9483239  0.94064004\n",
      " 0.96635143 0.9563033  0.96491598 0.87687105 0.87453365 0.8672961\n",
      " 0.85617888 0.84246325 0.82729316 0.81154704 0.79584169 0.78058398\n",
      " 0.76603091 0.75233936 0.73960197 0.72786766 0.71715653 0.70746624\n",
      " 0.6987769  0.69105357 0.68424821 0.67830211 0.67314804 0.6687116\n",
      " 0.66491514 0.66167694 0.65891576 0.65655029 0.65450191 0.65269625\n",
      " 0.65106243 0.6495353  0.64805633 0.64657342 0.64504087 0.64342153\n",
      " 0.64168346 0.63980323 0.6377641  0.63555425]\n",
      "7 day output [[0.63316905]]\n",
      "8 day input [0.85413324 0.77336823 0.77269273 0.88014017 0.84007431 0.89673225\n",
      " 0.85527316 0.83884995 0.74233725 0.82327113 0.78143207 0.6665963\n",
      " 0.7921557  0.64118044 0.68614371 0.66001013 0.65203074 0.58642236\n",
      " 0.56586169 0.66089673 0.65515494 0.70970193 0.66452757 0.69437642\n",
      " 0.69218104 0.63569197 0.65266402 0.63780292 0.7267162  0.71388162\n",
      " 0.74191506 0.75002111 0.77222832 0.83049059 0.8194292  0.8289707\n",
      " 0.8125475  0.78776492 0.75162543 0.78426074 0.77974331 0.81326522\n",
      " 0.8141096  0.79473106 0.83336148 0.85898843 0.83901883 0.85628641\n",
      " 0.87486279 0.88782403 0.90095415 0.92793211 0.948535   0.93333615\n",
      " 0.91746179 0.92544119 0.91771511 0.9483239  0.94064004 0.96635143\n",
      " 0.9563033  0.96491598 0.87687105 0.87453365 0.8672961  0.85617888\n",
      " 0.84246325 0.82729316 0.81154704 0.79584169 0.78058398 0.76603091\n",
      " 0.75233936 0.73960197 0.72786766 0.71715653 0.70746624 0.6987769\n",
      " 0.69105357 0.68424821 0.67830211 0.67314804 0.6687116  0.66491514\n",
      " 0.66167694 0.65891576 0.65655029 0.65450191 0.65269625 0.65106243\n",
      " 0.6495353  0.64805633 0.64657342 0.64504087 0.64342153 0.64168346\n",
      " 0.63980323 0.6377641  0.63555425 0.63316905]\n",
      "8 day output [[0.63060844]]\n",
      "9 day input [0.77336823 0.77269273 0.88014017 0.84007431 0.89673225 0.85527316\n",
      " 0.83884995 0.74233725 0.82327113 0.78143207 0.6665963  0.7921557\n",
      " 0.64118044 0.68614371 0.66001013 0.65203074 0.58642236 0.56586169\n",
      " 0.66089673 0.65515494 0.70970193 0.66452757 0.69437642 0.69218104\n",
      " 0.63569197 0.65266402 0.63780292 0.7267162  0.71388162 0.74191506\n",
      " 0.75002111 0.77222832 0.83049059 0.8194292  0.8289707  0.8125475\n",
      " 0.78776492 0.75162543 0.78426074 0.77974331 0.81326522 0.8141096\n",
      " 0.79473106 0.83336148 0.85898843 0.83901883 0.85628641 0.87486279\n",
      " 0.88782403 0.90095415 0.92793211 0.948535   0.93333615 0.91746179\n",
      " 0.92544119 0.91771511 0.9483239  0.94064004 0.96635143 0.9563033\n",
      " 0.96491598 0.87687105 0.87453365 0.8672961  0.85617888 0.84246325\n",
      " 0.82729316 0.81154704 0.79584169 0.78058398 0.76603091 0.75233936\n",
      " 0.73960197 0.72786766 0.71715653 0.70746624 0.6987769  0.69105357\n",
      " 0.68424821 0.67830211 0.67314804 0.6687116  0.66491514 0.66167694\n",
      " 0.65891576 0.65655029 0.65450191 0.65269625 0.65106243 0.6495353\n",
      " 0.64805633 0.64657342 0.64504087 0.64342153 0.64168346 0.63980323\n",
      " 0.6377641  0.63555425 0.63316905 0.63060844]\n",
      "9 day output [[0.6278776]]\n",
      "10 day input [0.77269273 0.88014017 0.84007431 0.89673225 0.85527316 0.83884995\n",
      " 0.74233725 0.82327113 0.78143207 0.6665963  0.7921557  0.64118044\n",
      " 0.68614371 0.66001013 0.65203074 0.58642236 0.56586169 0.66089673\n",
      " 0.65515494 0.70970193 0.66452757 0.69437642 0.69218104 0.63569197\n",
      " 0.65266402 0.63780292 0.7267162  0.71388162 0.74191506 0.75002111\n",
      " 0.77222832 0.83049059 0.8194292  0.8289707  0.8125475  0.78776492\n",
      " 0.75162543 0.78426074 0.77974331 0.81326522 0.8141096  0.79473106\n",
      " 0.83336148 0.85898843 0.83901883 0.85628641 0.87486279 0.88782403\n",
      " 0.90095415 0.92793211 0.948535   0.93333615 0.91746179 0.92544119\n",
      " 0.91771511 0.9483239  0.94064004 0.96635143 0.9563033  0.96491598\n",
      " 0.87687105 0.87453365 0.8672961  0.85617888 0.84246325 0.82729316\n",
      " 0.81154704 0.79584169 0.78058398 0.76603091 0.75233936 0.73960197\n",
      " 0.72786766 0.71715653 0.70746624 0.6987769  0.69105357 0.68424821\n",
      " 0.67830211 0.67314804 0.6687116  0.66491514 0.66167694 0.65891576\n",
      " 0.65655029 0.65450191 0.65269625 0.65106243 0.6495353  0.64805633\n",
      " 0.64657342 0.64504087 0.64342153 0.64168346 0.63980323 0.6377641\n",
      " 0.63555425 0.63316905 0.63060844 0.62787759]\n"
     ]
    },
    {
     "name": "stdout",
     "output_type": "stream",
     "text": [
      "10 day output [[0.624985]]\n",
      "11 day input [0.88014017 0.84007431 0.89673225 0.85527316 0.83884995 0.74233725\n",
      " 0.82327113 0.78143207 0.6665963  0.7921557  0.64118044 0.68614371\n",
      " 0.66001013 0.65203074 0.58642236 0.56586169 0.66089673 0.65515494\n",
      " 0.70970193 0.66452757 0.69437642 0.69218104 0.63569197 0.65266402\n",
      " 0.63780292 0.7267162  0.71388162 0.74191506 0.75002111 0.77222832\n",
      " 0.83049059 0.8194292  0.8289707  0.8125475  0.78776492 0.75162543\n",
      " 0.78426074 0.77974331 0.81326522 0.8141096  0.79473106 0.83336148\n",
      " 0.85898843 0.83901883 0.85628641 0.87486279 0.88782403 0.90095415\n",
      " 0.92793211 0.948535   0.93333615 0.91746179 0.92544119 0.91771511\n",
      " 0.9483239  0.94064004 0.96635143 0.9563033  0.96491598 0.87687105\n",
      " 0.87453365 0.8672961  0.85617888 0.84246325 0.82729316 0.81154704\n",
      " 0.79584169 0.78058398 0.76603091 0.75233936 0.73960197 0.72786766\n",
      " 0.71715653 0.70746624 0.6987769  0.69105357 0.68424821 0.67830211\n",
      " 0.67314804 0.6687116  0.66491514 0.66167694 0.65891576 0.65655029\n",
      " 0.65450191 0.65269625 0.65106243 0.6495353  0.64805633 0.64657342\n",
      " 0.64504087 0.64342153 0.64168346 0.63980323 0.6377641  0.63555425\n",
      " 0.63316905 0.63060844 0.62787759 0.62498498]\n",
      "11 day output [[0.6219429]]\n",
      "12 day input [0.84007431 0.89673225 0.85527316 0.83884995 0.74233725 0.82327113\n",
      " 0.78143207 0.6665963  0.7921557  0.64118044 0.68614371 0.66001013\n",
      " 0.65203074 0.58642236 0.56586169 0.66089673 0.65515494 0.70970193\n",
      " 0.66452757 0.69437642 0.69218104 0.63569197 0.65266402 0.63780292\n",
      " 0.7267162  0.71388162 0.74191506 0.75002111 0.77222832 0.83049059\n",
      " 0.8194292  0.8289707  0.8125475  0.78776492 0.75162543 0.78426074\n",
      " 0.77974331 0.81326522 0.8141096  0.79473106 0.83336148 0.85898843\n",
      " 0.83901883 0.85628641 0.87486279 0.88782403 0.90095415 0.92793211\n",
      " 0.948535   0.93333615 0.91746179 0.92544119 0.91771511 0.9483239\n",
      " 0.94064004 0.96635143 0.9563033  0.96491598 0.87687105 0.87453365\n",
      " 0.8672961  0.85617888 0.84246325 0.82729316 0.81154704 0.79584169\n",
      " 0.78058398 0.76603091 0.75233936 0.73960197 0.72786766 0.71715653\n",
      " 0.70746624 0.6987769  0.69105357 0.68424821 0.67830211 0.67314804\n",
      " 0.6687116  0.66491514 0.66167694 0.65891576 0.65655029 0.65450191\n",
      " 0.65269625 0.65106243 0.6495353  0.64805633 0.64657342 0.64504087\n",
      " 0.64342153 0.64168346 0.63980323 0.6377641  0.63555425 0.63316905\n",
      " 0.63060844 0.62787759 0.62498498 0.62194288]\n",
      "12 day output [[0.618766]]\n",
      "13 day input [0.89673225 0.85527316 0.83884995 0.74233725 0.82327113 0.78143207\n",
      " 0.6665963  0.7921557  0.64118044 0.68614371 0.66001013 0.65203074\n",
      " 0.58642236 0.56586169 0.66089673 0.65515494 0.70970193 0.66452757\n",
      " 0.69437642 0.69218104 0.63569197 0.65266402 0.63780292 0.7267162\n",
      " 0.71388162 0.74191506 0.75002111 0.77222832 0.83049059 0.8194292\n",
      " 0.8289707  0.8125475  0.78776492 0.75162543 0.78426074 0.77974331\n",
      " 0.81326522 0.8141096  0.79473106 0.83336148 0.85898843 0.83901883\n",
      " 0.85628641 0.87486279 0.88782403 0.90095415 0.92793211 0.948535\n",
      " 0.93333615 0.91746179 0.92544119 0.91771511 0.9483239  0.94064004\n",
      " 0.96635143 0.9563033  0.96491598 0.87687105 0.87453365 0.8672961\n",
      " 0.85617888 0.84246325 0.82729316 0.81154704 0.79584169 0.78058398\n",
      " 0.76603091 0.75233936 0.73960197 0.72786766 0.71715653 0.70746624\n",
      " 0.6987769  0.69105357 0.68424821 0.67830211 0.67314804 0.6687116\n",
      " 0.66491514 0.66167694 0.65891576 0.65655029 0.65450191 0.65269625\n",
      " 0.65106243 0.6495353  0.64805633 0.64657342 0.64504087 0.64342153\n",
      " 0.64168346 0.63980323 0.6377641  0.63555425 0.63316905 0.63060844\n",
      " 0.62787759 0.62498498 0.62194288 0.61876601]\n",
      "13 day output [[0.6154718]]\n",
      "14 day input [0.85527316 0.83884995 0.74233725 0.82327113 0.78143207 0.6665963\n",
      " 0.7921557  0.64118044 0.68614371 0.66001013 0.65203074 0.58642236\n",
      " 0.56586169 0.66089673 0.65515494 0.70970193 0.66452757 0.69437642\n",
      " 0.69218104 0.63569197 0.65266402 0.63780292 0.7267162  0.71388162\n",
      " 0.74191506 0.75002111 0.77222832 0.83049059 0.8194292  0.8289707\n",
      " 0.8125475  0.78776492 0.75162543 0.78426074 0.77974331 0.81326522\n",
      " 0.8141096  0.79473106 0.83336148 0.85898843 0.83901883 0.85628641\n",
      " 0.87486279 0.88782403 0.90095415 0.92793211 0.948535   0.93333615\n",
      " 0.91746179 0.92544119 0.91771511 0.9483239  0.94064004 0.96635143\n",
      " 0.9563033  0.96491598 0.87687105 0.87453365 0.8672961  0.85617888\n",
      " 0.84246325 0.82729316 0.81154704 0.79584169 0.78058398 0.76603091\n",
      " 0.75233936 0.73960197 0.72786766 0.71715653 0.70746624 0.6987769\n",
      " 0.69105357 0.68424821 0.67830211 0.67314804 0.6687116  0.66491514\n",
      " 0.66167694 0.65891576 0.65655029 0.65450191 0.65269625 0.65106243\n",
      " 0.6495353  0.64805633 0.64657342 0.64504087 0.64342153 0.64168346\n",
      " 0.63980323 0.6377641  0.63555425 0.63316905 0.63060844 0.62787759\n",
      " 0.62498498 0.62194288 0.61876601 0.61547178]\n",
      "14 day output [[0.6120777]]\n",
      "15 day input [0.83884995 0.74233725 0.82327113 0.78143207 0.6665963  0.7921557\n",
      " 0.64118044 0.68614371 0.66001013 0.65203074 0.58642236 0.56586169\n",
      " 0.66089673 0.65515494 0.70970193 0.66452757 0.69437642 0.69218104\n",
      " 0.63569197 0.65266402 0.63780292 0.7267162  0.71388162 0.74191506\n",
      " 0.75002111 0.77222832 0.83049059 0.8194292  0.8289707  0.8125475\n",
      " 0.78776492 0.75162543 0.78426074 0.77974331 0.81326522 0.8141096\n",
      " 0.79473106 0.83336148 0.85898843 0.83901883 0.85628641 0.87486279\n",
      " 0.88782403 0.90095415 0.92793211 0.948535   0.93333615 0.91746179\n",
      " 0.92544119 0.91771511 0.9483239  0.94064004 0.96635143 0.9563033\n",
      " 0.96491598 0.87687105 0.87453365 0.8672961  0.85617888 0.84246325\n",
      " 0.82729316 0.81154704 0.79584169 0.78058398 0.76603091 0.75233936\n",
      " 0.73960197 0.72786766 0.71715653 0.70746624 0.6987769  0.69105357\n",
      " 0.68424821 0.67830211 0.67314804 0.6687116  0.66491514 0.66167694\n",
      " 0.65891576 0.65655029 0.65450191 0.65269625 0.65106243 0.6495353\n",
      " 0.64805633 0.64657342 0.64504087 0.64342153 0.64168346 0.63980323\n",
      " 0.6377641  0.63555425 0.63316905 0.63060844 0.62787759 0.62498498\n",
      " 0.62194288 0.61876601 0.61547178 0.61207771]\n",
      "15 day output [[0.60860306]]\n",
      "16 day input [0.74233725 0.82327113 0.78143207 0.6665963  0.7921557  0.64118044\n",
      " 0.68614371 0.66001013 0.65203074 0.58642236 0.56586169 0.66089673\n",
      " 0.65515494 0.70970193 0.66452757 0.69437642 0.69218104 0.63569197\n",
      " 0.65266402 0.63780292 0.7267162  0.71388162 0.74191506 0.75002111\n",
      " 0.77222832 0.83049059 0.8194292  0.8289707  0.8125475  0.78776492\n",
      " 0.75162543 0.78426074 0.77974331 0.81326522 0.8141096  0.79473106\n",
      " 0.83336148 0.85898843 0.83901883 0.85628641 0.87486279 0.88782403\n",
      " 0.90095415 0.92793211 0.948535   0.93333615 0.91746179 0.92544119\n",
      " 0.91771511 0.9483239  0.94064004 0.96635143 0.9563033  0.96491598\n",
      " 0.87687105 0.87453365 0.8672961  0.85617888 0.84246325 0.82729316\n",
      " 0.81154704 0.79584169 0.78058398 0.76603091 0.75233936 0.73960197\n",
      " 0.72786766 0.71715653 0.70746624 0.6987769  0.69105357 0.68424821\n",
      " 0.67830211 0.67314804 0.6687116  0.66491514 0.66167694 0.65891576\n",
      " 0.65655029 0.65450191 0.65269625 0.65106243 0.6495353  0.64805633\n",
      " 0.64657342 0.64504087 0.64342153 0.64168346 0.63980323 0.6377641\n",
      " 0.63555425 0.63316905 0.63060844 0.62787759 0.62498498 0.62194288\n",
      " 0.61876601 0.61547178 0.61207771 0.60860306]\n",
      "16 day output [[0.6050675]]\n",
      "17 day input [0.82327113 0.78143207 0.6665963  0.7921557  0.64118044 0.68614371\n",
      " 0.66001013 0.65203074 0.58642236 0.56586169 0.66089673 0.65515494\n",
      " 0.70970193 0.66452757 0.69437642 0.69218104 0.63569197 0.65266402\n",
      " 0.63780292 0.7267162  0.71388162 0.74191506 0.75002111 0.77222832\n",
      " 0.83049059 0.8194292  0.8289707  0.8125475  0.78776492 0.75162543\n",
      " 0.78426074 0.77974331 0.81326522 0.8141096  0.79473106 0.83336148\n",
      " 0.85898843 0.83901883 0.85628641 0.87486279 0.88782403 0.90095415\n",
      " 0.92793211 0.948535   0.93333615 0.91746179 0.92544119 0.91771511\n",
      " 0.9483239  0.94064004 0.96635143 0.9563033  0.96491598 0.87687105\n",
      " 0.87453365 0.8672961  0.85617888 0.84246325 0.82729316 0.81154704\n",
      " 0.79584169 0.78058398 0.76603091 0.75233936 0.73960197 0.72786766\n",
      " 0.71715653 0.70746624 0.6987769  0.69105357 0.68424821 0.67830211\n",
      " 0.67314804 0.6687116  0.66491514 0.66167694 0.65891576 0.65655029\n",
      " 0.65450191 0.65269625 0.65106243 0.6495353  0.64805633 0.64657342\n",
      " 0.64504087 0.64342153 0.64168346 0.63980323 0.6377641  0.63555425\n",
      " 0.63316905 0.63060844 0.62787759 0.62498498 0.62194288 0.61876601\n",
      " 0.61547178 0.61207771 0.60860306 0.60506749]\n",
      "17 day output [[0.60149]]\n",
      "18 day input [0.78143207 0.6665963  0.7921557  0.64118044 0.68614371 0.66001013\n",
      " 0.65203074 0.58642236 0.56586169 0.66089673 0.65515494 0.70970193\n",
      " 0.66452757 0.69437642 0.69218104 0.63569197 0.65266402 0.63780292\n",
      " 0.7267162  0.71388162 0.74191506 0.75002111 0.77222832 0.83049059\n",
      " 0.8194292  0.8289707  0.8125475  0.78776492 0.75162543 0.78426074\n",
      " 0.77974331 0.81326522 0.8141096  0.79473106 0.83336148 0.85898843\n",
      " 0.83901883 0.85628641 0.87486279 0.88782403 0.90095415 0.92793211\n",
      " 0.948535   0.93333615 0.91746179 0.92544119 0.91771511 0.9483239\n",
      " 0.94064004 0.96635143 0.9563033  0.96491598 0.87687105 0.87453365\n",
      " 0.8672961  0.85617888 0.84246325 0.82729316 0.81154704 0.79584169\n",
      " 0.78058398 0.76603091 0.75233936 0.73960197 0.72786766 0.71715653\n",
      " 0.70746624 0.6987769  0.69105357 0.68424821 0.67830211 0.67314804\n",
      " 0.6687116  0.66491514 0.66167694 0.65891576 0.65655029 0.65450191\n",
      " 0.65269625 0.65106243 0.6495353  0.64805633 0.64657342 0.64504087\n",
      " 0.64342153 0.64168346 0.63980323 0.6377641  0.63555425 0.63316905\n",
      " 0.63060844 0.62787759 0.62498498 0.62194288 0.61876601 0.61547178\n",
      " 0.61207771 0.60860306 0.60506749 0.60149002]\n"
     ]
    },
    {
     "name": "stdout",
     "output_type": "stream",
     "text": [
      "18 day output [[0.5978892]]\n",
      "19 day input [0.6665963  0.7921557  0.64118044 0.68614371 0.66001013 0.65203074\n",
      " 0.58642236 0.56586169 0.66089673 0.65515494 0.70970193 0.66452757\n",
      " 0.69437642 0.69218104 0.63569197 0.65266402 0.63780292 0.7267162\n",
      " 0.71388162 0.74191506 0.75002111 0.77222832 0.83049059 0.8194292\n",
      " 0.8289707  0.8125475  0.78776492 0.75162543 0.78426074 0.77974331\n",
      " 0.81326522 0.8141096  0.79473106 0.83336148 0.85898843 0.83901883\n",
      " 0.85628641 0.87486279 0.88782403 0.90095415 0.92793211 0.948535\n",
      " 0.93333615 0.91746179 0.92544119 0.91771511 0.9483239  0.94064004\n",
      " 0.96635143 0.9563033  0.96491598 0.87687105 0.87453365 0.8672961\n",
      " 0.85617888 0.84246325 0.82729316 0.81154704 0.79584169 0.78058398\n",
      " 0.76603091 0.75233936 0.73960197 0.72786766 0.71715653 0.70746624\n",
      " 0.6987769  0.69105357 0.68424821 0.67830211 0.67314804 0.6687116\n",
      " 0.66491514 0.66167694 0.65891576 0.65655029 0.65450191 0.65269625\n",
      " 0.65106243 0.6495353  0.64805633 0.64657342 0.64504087 0.64342153\n",
      " 0.64168346 0.63980323 0.6377641  0.63555425 0.63316905 0.63060844\n",
      " 0.62787759 0.62498498 0.62194288 0.61876601 0.61547178 0.61207771\n",
      " 0.60860306 0.60506749 0.60149002 0.59788918]\n",
      "19 day output [[0.5942827]]\n",
      "20 day input [0.7921557  0.64118044 0.68614371 0.66001013 0.65203074 0.58642236\n",
      " 0.56586169 0.66089673 0.65515494 0.70970193 0.66452757 0.69437642\n",
      " 0.69218104 0.63569197 0.65266402 0.63780292 0.7267162  0.71388162\n",
      " 0.74191506 0.75002111 0.77222832 0.83049059 0.8194292  0.8289707\n",
      " 0.8125475  0.78776492 0.75162543 0.78426074 0.77974331 0.81326522\n",
      " 0.8141096  0.79473106 0.83336148 0.85898843 0.83901883 0.85628641\n",
      " 0.87486279 0.88782403 0.90095415 0.92793211 0.948535   0.93333615\n",
      " 0.91746179 0.92544119 0.91771511 0.9483239  0.94064004 0.96635143\n",
      " 0.9563033  0.96491598 0.87687105 0.87453365 0.8672961  0.85617888\n",
      " 0.84246325 0.82729316 0.81154704 0.79584169 0.78058398 0.76603091\n",
      " 0.75233936 0.73960197 0.72786766 0.71715653 0.70746624 0.6987769\n",
      " 0.69105357 0.68424821 0.67830211 0.67314804 0.6687116  0.66491514\n",
      " 0.66167694 0.65891576 0.65655029 0.65450191 0.65269625 0.65106243\n",
      " 0.6495353  0.64805633 0.64657342 0.64504087 0.64342153 0.64168346\n",
      " 0.63980323 0.6377641  0.63555425 0.63316905 0.63060844 0.62787759\n",
      " 0.62498498 0.62194288 0.61876601 0.61547178 0.61207771 0.60860306\n",
      " 0.60506749 0.60149002 0.59788918 0.59428269]\n",
      "20 day output [[0.59068686]]\n",
      "21 day input [0.64118044 0.68614371 0.66001013 0.65203074 0.58642236 0.56586169\n",
      " 0.66089673 0.65515494 0.70970193 0.66452757 0.69437642 0.69218104\n",
      " 0.63569197 0.65266402 0.63780292 0.7267162  0.71388162 0.74191506\n",
      " 0.75002111 0.77222832 0.83049059 0.8194292  0.8289707  0.8125475\n",
      " 0.78776492 0.75162543 0.78426074 0.77974331 0.81326522 0.8141096\n",
      " 0.79473106 0.83336148 0.85898843 0.83901883 0.85628641 0.87486279\n",
      " 0.88782403 0.90095415 0.92793211 0.948535   0.93333615 0.91746179\n",
      " 0.92544119 0.91771511 0.9483239  0.94064004 0.96635143 0.9563033\n",
      " 0.96491598 0.87687105 0.87453365 0.8672961  0.85617888 0.84246325\n",
      " 0.82729316 0.81154704 0.79584169 0.78058398 0.76603091 0.75233936\n",
      " 0.73960197 0.72786766 0.71715653 0.70746624 0.6987769  0.69105357\n",
      " 0.68424821 0.67830211 0.67314804 0.6687116  0.66491514 0.66167694\n",
      " 0.65891576 0.65655029 0.65450191 0.65269625 0.65106243 0.6495353\n",
      " 0.64805633 0.64657342 0.64504087 0.64342153 0.64168346 0.63980323\n",
      " 0.6377641  0.63555425 0.63316905 0.63060844 0.62787759 0.62498498\n",
      " 0.62194288 0.61876601 0.61547178 0.61207771 0.60860306 0.60506749\n",
      " 0.60149002 0.59788918 0.59428269 0.59068686]\n",
      "21 day output [[0.5871168]]\n",
      "22 day input [0.68614371 0.66001013 0.65203074 0.58642236 0.56586169 0.66089673\n",
      " 0.65515494 0.70970193 0.66452757 0.69437642 0.69218104 0.63569197\n",
      " 0.65266402 0.63780292 0.7267162  0.71388162 0.74191506 0.75002111\n",
      " 0.77222832 0.83049059 0.8194292  0.8289707  0.8125475  0.78776492\n",
      " 0.75162543 0.78426074 0.77974331 0.81326522 0.8141096  0.79473106\n",
      " 0.83336148 0.85898843 0.83901883 0.85628641 0.87486279 0.88782403\n",
      " 0.90095415 0.92793211 0.948535   0.93333615 0.91746179 0.92544119\n",
      " 0.91771511 0.9483239  0.94064004 0.96635143 0.9563033  0.96491598\n",
      " 0.87687105 0.87453365 0.8672961  0.85617888 0.84246325 0.82729316\n",
      " 0.81154704 0.79584169 0.78058398 0.76603091 0.75233936 0.73960197\n",
      " 0.72786766 0.71715653 0.70746624 0.6987769  0.69105357 0.68424821\n",
      " 0.67830211 0.67314804 0.6687116  0.66491514 0.66167694 0.65891576\n",
      " 0.65655029 0.65450191 0.65269625 0.65106243 0.6495353  0.64805633\n",
      " 0.64657342 0.64504087 0.64342153 0.64168346 0.63980323 0.6377641\n",
      " 0.63555425 0.63316905 0.63060844 0.62787759 0.62498498 0.62194288\n",
      " 0.61876601 0.61547178 0.61207771 0.60860306 0.60506749 0.60149002\n",
      " 0.59788918 0.59428269 0.59068686 0.58711678]\n",
      "22 day output [[0.5835857]]\n",
      "23 day input [0.66001013 0.65203074 0.58642236 0.56586169 0.66089673 0.65515494\n",
      " 0.70970193 0.66452757 0.69437642 0.69218104 0.63569197 0.65266402\n",
      " 0.63780292 0.7267162  0.71388162 0.74191506 0.75002111 0.77222832\n",
      " 0.83049059 0.8194292  0.8289707  0.8125475  0.78776492 0.75162543\n",
      " 0.78426074 0.77974331 0.81326522 0.8141096  0.79473106 0.83336148\n",
      " 0.85898843 0.83901883 0.85628641 0.87486279 0.88782403 0.90095415\n",
      " 0.92793211 0.948535   0.93333615 0.91746179 0.92544119 0.91771511\n",
      " 0.9483239  0.94064004 0.96635143 0.9563033  0.96491598 0.87687105\n",
      " 0.87453365 0.8672961  0.85617888 0.84246325 0.82729316 0.81154704\n",
      " 0.79584169 0.78058398 0.76603091 0.75233936 0.73960197 0.72786766\n",
      " 0.71715653 0.70746624 0.6987769  0.69105357 0.68424821 0.67830211\n",
      " 0.67314804 0.6687116  0.66491514 0.66167694 0.65891576 0.65655029\n",
      " 0.65450191 0.65269625 0.65106243 0.6495353  0.64805633 0.64657342\n",
      " 0.64504087 0.64342153 0.64168346 0.63980323 0.6377641  0.63555425\n",
      " 0.63316905 0.63060844 0.62787759 0.62498498 0.62194288 0.61876601\n",
      " 0.61547178 0.61207771 0.60860306 0.60506749 0.60149002 0.59788918\n",
      " 0.59428269 0.59068686 0.58711678 0.58358568]\n",
      "23 day output [[0.5801051]]\n",
      "24 day input [0.65203074 0.58642236 0.56586169 0.66089673 0.65515494 0.70970193\n",
      " 0.66452757 0.69437642 0.69218104 0.63569197 0.65266402 0.63780292\n",
      " 0.7267162  0.71388162 0.74191506 0.75002111 0.77222832 0.83049059\n",
      " 0.8194292  0.8289707  0.8125475  0.78776492 0.75162543 0.78426074\n",
      " 0.77974331 0.81326522 0.8141096  0.79473106 0.83336148 0.85898843\n",
      " 0.83901883 0.85628641 0.87486279 0.88782403 0.90095415 0.92793211\n",
      " 0.948535   0.93333615 0.91746179 0.92544119 0.91771511 0.9483239\n",
      " 0.94064004 0.96635143 0.9563033  0.96491598 0.87687105 0.87453365\n",
      " 0.8672961  0.85617888 0.84246325 0.82729316 0.81154704 0.79584169\n",
      " 0.78058398 0.76603091 0.75233936 0.73960197 0.72786766 0.71715653\n",
      " 0.70746624 0.6987769  0.69105357 0.68424821 0.67830211 0.67314804\n",
      " 0.6687116  0.66491514 0.66167694 0.65891576 0.65655029 0.65450191\n",
      " 0.65269625 0.65106243 0.6495353  0.64805633 0.64657342 0.64504087\n",
      " 0.64342153 0.64168346 0.63980323 0.6377641  0.63555425 0.63316905\n",
      " 0.63060844 0.62787759 0.62498498 0.62194288 0.61876601 0.61547178\n",
      " 0.61207771 0.60860306 0.60506749 0.60149002 0.59788918 0.59428269\n",
      " 0.59068686 0.58711678 0.58358568 0.58010513]\n",
      "24 day output [[0.5766847]]\n",
      "25 day input [0.58642236 0.56586169 0.66089673 0.65515494 0.70970193 0.66452757\n",
      " 0.69437642 0.69218104 0.63569197 0.65266402 0.63780292 0.7267162\n",
      " 0.71388162 0.74191506 0.75002111 0.77222832 0.83049059 0.8194292\n",
      " 0.8289707  0.8125475  0.78776492 0.75162543 0.78426074 0.77974331\n",
      " 0.81326522 0.8141096  0.79473106 0.83336148 0.85898843 0.83901883\n",
      " 0.85628641 0.87486279 0.88782403 0.90095415 0.92793211 0.948535\n",
      " 0.93333615 0.91746179 0.92544119 0.91771511 0.9483239  0.94064004\n",
      " 0.96635143 0.9563033  0.96491598 0.87687105 0.87453365 0.8672961\n",
      " 0.85617888 0.84246325 0.82729316 0.81154704 0.79584169 0.78058398\n",
      " 0.76603091 0.75233936 0.73960197 0.72786766 0.71715653 0.70746624\n",
      " 0.6987769  0.69105357 0.68424821 0.67830211 0.67314804 0.6687116\n",
      " 0.66491514 0.66167694 0.65891576 0.65655029 0.65450191 0.65269625\n",
      " 0.65106243 0.6495353  0.64805633 0.64657342 0.64504087 0.64342153\n",
      " 0.64168346 0.63980323 0.6377641  0.63555425 0.63316905 0.63060844\n",
      " 0.62787759 0.62498498 0.62194288 0.61876601 0.61547178 0.61207771\n",
      " 0.60860306 0.60506749 0.60149002 0.59788918 0.59428269 0.59068686\n",
      " 0.58711678 0.58358568 0.58010513 0.57668471]\n",
      "25 day output [[0.5733329]]\n",
      "26 day input [0.56586169 0.66089673 0.65515494 0.70970193 0.66452757 0.69437642\n",
      " 0.69218104 0.63569197 0.65266402 0.63780292 0.7267162  0.71388162\n",
      " 0.74191506 0.75002111 0.77222832 0.83049059 0.8194292  0.8289707\n",
      " 0.8125475  0.78776492 0.75162543 0.78426074 0.77974331 0.81326522\n",
      " 0.8141096  0.79473106 0.83336148 0.85898843 0.83901883 0.85628641\n",
      " 0.87486279 0.88782403 0.90095415 0.92793211 0.948535   0.93333615\n",
      " 0.91746179 0.92544119 0.91771511 0.9483239  0.94064004 0.96635143\n",
      " 0.9563033  0.96491598 0.87687105 0.87453365 0.8672961  0.85617888\n",
      " 0.84246325 0.82729316 0.81154704 0.79584169 0.78058398 0.76603091\n",
      " 0.75233936 0.73960197 0.72786766 0.71715653 0.70746624 0.6987769\n",
      " 0.69105357 0.68424821 0.67830211 0.67314804 0.6687116  0.66491514\n",
      " 0.66167694 0.65891576 0.65655029 0.65450191 0.65269625 0.65106243\n",
      " 0.6495353  0.64805633 0.64657342 0.64504087 0.64342153 0.64168346\n",
      " 0.63980323 0.6377641  0.63555425 0.63316905 0.63060844 0.62787759\n",
      " 0.62498498 0.62194288 0.61876601 0.61547178 0.61207771 0.60860306\n",
      " 0.60506749 0.60149002 0.59788918 0.59428269 0.59068686 0.58711678\n",
      " 0.58358568 0.58010513 0.57668471 0.57333291]\n"
     ]
    },
    {
     "name": "stdout",
     "output_type": "stream",
     "text": [
      "26 day output [[0.5700554]]\n",
      "27 day input [0.66089673 0.65515494 0.70970193 0.66452757 0.69437642 0.69218104\n",
      " 0.63569197 0.65266402 0.63780292 0.7267162  0.71388162 0.74191506\n",
      " 0.75002111 0.77222832 0.83049059 0.8194292  0.8289707  0.8125475\n",
      " 0.78776492 0.75162543 0.78426074 0.77974331 0.81326522 0.8141096\n",
      " 0.79473106 0.83336148 0.85898843 0.83901883 0.85628641 0.87486279\n",
      " 0.88782403 0.90095415 0.92793211 0.948535   0.93333615 0.91746179\n",
      " 0.92544119 0.91771511 0.9483239  0.94064004 0.96635143 0.9563033\n",
      " 0.96491598 0.87687105 0.87453365 0.8672961  0.85617888 0.84246325\n",
      " 0.82729316 0.81154704 0.79584169 0.78058398 0.76603091 0.75233936\n",
      " 0.73960197 0.72786766 0.71715653 0.70746624 0.6987769  0.69105357\n",
      " 0.68424821 0.67830211 0.67314804 0.6687116  0.66491514 0.66167694\n",
      " 0.65891576 0.65655029 0.65450191 0.65269625 0.65106243 0.6495353\n",
      " 0.64805633 0.64657342 0.64504087 0.64342153 0.64168346 0.63980323\n",
      " 0.6377641  0.63555425 0.63316905 0.63060844 0.62787759 0.62498498\n",
      " 0.62194288 0.61876601 0.61547178 0.61207771 0.60860306 0.60506749\n",
      " 0.60149002 0.59788918 0.59428269 0.59068686 0.58711678 0.58358568\n",
      " 0.58010513 0.57668471 0.57333291 0.57005543]\n",
      "27 day output [[0.566857]]\n",
      "28 day input [0.65515494 0.70970193 0.66452757 0.69437642 0.69218104 0.63569197\n",
      " 0.65266402 0.63780292 0.7267162  0.71388162 0.74191506 0.75002111\n",
      " 0.77222832 0.83049059 0.8194292  0.8289707  0.8125475  0.78776492\n",
      " 0.75162543 0.78426074 0.77974331 0.81326522 0.8141096  0.79473106\n",
      " 0.83336148 0.85898843 0.83901883 0.85628641 0.87486279 0.88782403\n",
      " 0.90095415 0.92793211 0.948535   0.93333615 0.91746179 0.92544119\n",
      " 0.91771511 0.9483239  0.94064004 0.96635143 0.9563033  0.96491598\n",
      " 0.87687105 0.87453365 0.8672961  0.85617888 0.84246325 0.82729316\n",
      " 0.81154704 0.79584169 0.78058398 0.76603091 0.75233936 0.73960197\n",
      " 0.72786766 0.71715653 0.70746624 0.6987769  0.69105357 0.68424821\n",
      " 0.67830211 0.67314804 0.6687116  0.66491514 0.66167694 0.65891576\n",
      " 0.65655029 0.65450191 0.65269625 0.65106243 0.6495353  0.64805633\n",
      " 0.64657342 0.64504087 0.64342153 0.64168346 0.63980323 0.6377641\n",
      " 0.63555425 0.63316905 0.63060844 0.62787759 0.62498498 0.62194288\n",
      " 0.61876601 0.61547178 0.61207771 0.60860306 0.60506749 0.60149002\n",
      " 0.59788918 0.59428269 0.59068686 0.58711678 0.58358568 0.58010513\n",
      " 0.57668471 0.57333291 0.57005543 0.56685698]\n",
      "28 day output [[0.5637404]]\n",
      "29 day input [0.70970193 0.66452757 0.69437642 0.69218104 0.63569197 0.65266402\n",
      " 0.63780292 0.7267162  0.71388162 0.74191506 0.75002111 0.77222832\n",
      " 0.83049059 0.8194292  0.8289707  0.8125475  0.78776492 0.75162543\n",
      " 0.78426074 0.77974331 0.81326522 0.8141096  0.79473106 0.83336148\n",
      " 0.85898843 0.83901883 0.85628641 0.87486279 0.88782403 0.90095415\n",
      " 0.92793211 0.948535   0.93333615 0.91746179 0.92544119 0.91771511\n",
      " 0.9483239  0.94064004 0.96635143 0.9563033  0.96491598 0.87687105\n",
      " 0.87453365 0.8672961  0.85617888 0.84246325 0.82729316 0.81154704\n",
      " 0.79584169 0.78058398 0.76603091 0.75233936 0.73960197 0.72786766\n",
      " 0.71715653 0.70746624 0.6987769  0.69105357 0.68424821 0.67830211\n",
      " 0.67314804 0.6687116  0.66491514 0.66167694 0.65891576 0.65655029\n",
      " 0.65450191 0.65269625 0.65106243 0.6495353  0.64805633 0.64657342\n",
      " 0.64504087 0.64342153 0.64168346 0.63980323 0.6377641  0.63555425\n",
      " 0.63316905 0.63060844 0.62787759 0.62498498 0.62194288 0.61876601\n",
      " 0.61547178 0.61207771 0.60860306 0.60506749 0.60149002 0.59788918\n",
      " 0.59428269 0.59068686 0.58711678 0.58358568 0.58010513 0.57668471\n",
      " 0.57333291 0.57005543 0.56685698 0.56374037]\n",
      "29 day output [[0.56070703]]\n",
      "[[0.6465734243392944], [0.6450408697128296], [0.6434215307235718], [0.6416834592819214], [0.6398032307624817], [0.6377640962600708], [0.6355542540550232], [0.6331690549850464], [0.6306084394454956], [0.6278775930404663], [0.6249849796295166], [0.6219428777694702], [0.6187660098075867], [0.6154717803001404], [0.6120777130126953], [0.6086030602455139], [0.6050674915313721], [0.6014900207519531], [0.5978891849517822], [0.5942826867103577], [0.5906868577003479], [0.5871167778968811], [0.5835856795310974], [0.5801051259040833], [0.5766847133636475], [0.5733329057693481], [0.5700554251670837], [0.5668569803237915], [0.5637403726577759], [0.5607070326805115]]\n"
     ]
    }
   ],
   "source": [
    "from numpy import array\n",
    "\n",
    "lst_output= []\n",
    "n_steps= 100\n",
    "i=0\n",
    "while(i<30):\n",
    "    if (len(temp_input)>100):\n",
    "        x_input = np.array(temp_input[1:])\n",
    "        print('{} day input {}'.format(i, x_input))\n",
    "        \n",
    "        x_input=x_input.reshape(1, -1)\n",
    "        x_input = x_input.reshape((1, n_steps, 1))\n",
    "        yhat = model.predict(x_input, verbose=0)\n",
    "        print(\"{} day output {}\".format(i,yhat))\n",
    "        temp_input.extend(yhat[0].tolist())\n",
    "        temp_input=temp_input[1:]\n",
    "        #print(temp_input)\n",
    "        lst_output.extend(yhat.tolist())\n",
    "        i=i+1\n",
    "        \n",
    "    else:\n",
    "        x_input = x_input.reshape((1, n_steps,1))\n",
    "        yhat = model.predict(x_input, verbose=0)\n",
    "        print(yhat[0])\n",
    "        temp_input.extend(yhat[0].tolist())\n",
    "        print(len(temp_input))\n",
    "        lst_output.extend(yhat.tolist())\n",
    "        i=i+1\n",
    "    \n",
    "\n",
    "print(lst_output)"
   ]
  },
  {
   "cell_type": "code",
   "execution_count": 62,
   "id": "solar-sussex",
   "metadata": {},
   "outputs": [],
   "source": [
    "day_new = np.arange(1,101)\n",
    "day_pred = np.arange(101,131)"
   ]
  },
  {
   "cell_type": "code",
   "execution_count": 63,
   "id": "legal-redhead",
   "metadata": {},
   "outputs": [
    {
     "data": {
      "text/plain": [
       "1258"
      ]
     },
     "execution_count": 63,
     "metadata": {},
     "output_type": "execute_result"
    }
   ],
   "source": [
    "len(df1)"
   ]
  },
  {
   "cell_type": "code",
   "execution_count": null,
   "id": "domestic-agenda",
   "metadata": {},
   "outputs": [],
   "source": []
  },
  {
   "cell_type": "code",
   "execution_count": 64,
   "id": "chronic-manchester",
   "metadata": {
    "scrolled": true
   },
   "outputs": [
    {
     "data": {
      "text/plain": [
       "[<matplotlib.lines.Line2D at 0x2aaffa47a90>]"
      ]
     },
     "execution_count": 64,
     "metadata": {},
     "output_type": "execute_result"
    },
    {
     "data": {
      "image/png": "[encoded data removed]",
      "text/plain": [
       "<Figure size 432x288 with 1 Axes>"
      ]
     },
     "metadata": {
      "needs_background": "light"
     },
     "output_type": "display_data"
    }
   ],
   "source": [
    "plt.plot(day_new,scaler.inverse_transform(df1[1158:]))\n",
    "plt.plot(day_pred, scaler.inverse_transform(lst_output))"
   ]
  },
  {
   "cell_type": "code",
   "execution_count": 65,
   "id": "contrary-costs",
   "metadata": {},
   "outputs": [
    {
     "data": {
      "text/plain": [
       "[<matplotlib.lines.Line2D at 0x2aaff8ccf70>]"
      ]
     },
     "execution_count": 65,
     "metadata": {},
     "output_type": "execute_result"
    },
    {
     "data": {
      "image/png": "[encoded data removed]",
      "text/plain": [
       "<Figure size 720x432 with 1 Axes>"
      ]
     },
     "metadata": {
      "needs_background": "light"
     },
     "output_type": "display_data"
    }
   ],
   "source": [
    "df3 = df1.tolist()\n",
    "df3.extend(lst_output)\n",
    "plt.figure(figsize=(10,6))\n",
    "plt.plot(df3[1200:])"
   ]
  },
  {
   "cell_type": "code",
   "execution_count": null,
   "id": "resistant-adrian",
   "metadata": {},
   "outputs": [],
   "source": []
  },
  {
   "cell_type": "code",
   "execution_count": null,
   "id": "secondary-surfing",
   "metadata": {},
   "outputs": [],
   "source": []
  }
 ],
 "metadata": {
  "kernelspec": {
   "display_name": "Python 3",
   "language": "python",
   "name": "python3"
  },
  "language_info": {
   "codemirror_mode": {
    "name": "ipython",
    "version": 3
   },
   "file_extension": ".py",
   "mimetype": "text/x-python",
   "name": "python",
   "nbconvert_exporter": "python",
   "pygments_lexer": "ipython3",
   "version": "3.8.7"
  }
 },
 "nbformat": 4,
 "nbformat_minor": 5
}
